{
 "cells": [
  {
   "cell_type": "markdown",
   "metadata": {},
   "source": [
    "## Videogames Sales Prediction\n",
    "Vitor Gomes - C0852679"
   ]
  },
  {
   "cell_type": "markdown",
   "metadata": {},
   "source": [
    "This project aims to develop and train a model to predict videogames sales. The dataset used to train the model was obtained on Kagle and it's called Video Games Sales 2019 dataset."
   ]
  },
  {
   "cell_type": "code",
   "execution_count": 85,
   "metadata": {},
   "outputs": [],
   "source": [
    "import numpy as np\n",
    "from numpy import mean\n",
    "from numpy import std\n",
    "\n",
    "import pandas as pd\n",
    "import matplotlib.pyplot as plt\n",
    "import seaborn as sns\n",
    "import category_encoders as ce\n",
    "import re\n",
    "import random\n",
    "\n",
    "import sklearn\n",
    "from sklearn import datasets, ensemble\n",
    "from sklearn.inspection import permutation_importance\n",
    "from sklearn.metrics import mean_squared_error\n",
    "from sklearn.model_selection import train_test_split\n",
    "from sklearn.metrics import r2_score\n",
    "from sklearn.datasets import make_regression\n",
    "from sklearn.model_selection import cross_val_score\n",
    "from sklearn.model_selection import RepeatedKFold\n",
    "from sklearn.experimental import enable_hist_gradient_boosting\n",
    "from sklearn.ensemble import HistGradientBoostingRegressor\n",
    "\n",
    "from lightgbm import LGBMRegressor"
   ]
  },
  {
   "cell_type": "markdown",
   "metadata": {},
   "source": [
    "### Data Wrangling"
   ]
  },
  {
   "cell_type": "code",
   "execution_count": 86,
   "metadata": {},
   "outputs": [
    {
     "data": {
      "text/html": [
       "<div>\n",
       "<style scoped>\n",
       "    .dataframe tbody tr th:only-of-type {\n",
       "        vertical-align: middle;\n",
       "    }\n",
       "\n",
       "    .dataframe tbody tr th {\n",
       "        vertical-align: top;\n",
       "    }\n",
       "\n",
       "    .dataframe thead th {\n",
       "        text-align: right;\n",
       "    }\n",
       "</style>\n",
       "<table border=\"1\" class=\"dataframe\">\n",
       "  <thead>\n",
       "    <tr style=\"text-align: right;\">\n",
       "      <th></th>\n",
       "      <th>Rank</th>\n",
       "      <th>Name</th>\n",
       "      <th>basename</th>\n",
       "      <th>Genre</th>\n",
       "      <th>ESRB_Rating</th>\n",
       "      <th>Platform</th>\n",
       "      <th>Publisher</th>\n",
       "      <th>Developer</th>\n",
       "      <th>VGChartz_Score</th>\n",
       "      <th>Critic_Score</th>\n",
       "      <th>...</th>\n",
       "      <th>NA_Sales</th>\n",
       "      <th>PAL_Sales</th>\n",
       "      <th>JP_Sales</th>\n",
       "      <th>Other_Sales</th>\n",
       "      <th>Year</th>\n",
       "      <th>Last_Update</th>\n",
       "      <th>url</th>\n",
       "      <th>status</th>\n",
       "      <th>Vgchartzscore</th>\n",
       "      <th>img_url</th>\n",
       "    </tr>\n",
       "  </thead>\n",
       "  <tbody>\n",
       "    <tr>\n",
       "      <th>0</th>\n",
       "      <td>1</td>\n",
       "      <td>Wii Sports</td>\n",
       "      <td>wii-sports</td>\n",
       "      <td>Sports</td>\n",
       "      <td>E</td>\n",
       "      <td>Wii</td>\n",
       "      <td>Nintendo</td>\n",
       "      <td>Nintendo EAD</td>\n",
       "      <td>NaN</td>\n",
       "      <td>7.7</td>\n",
       "      <td>...</td>\n",
       "      <td>NaN</td>\n",
       "      <td>NaN</td>\n",
       "      <td>NaN</td>\n",
       "      <td>NaN</td>\n",
       "      <td>2006.0</td>\n",
       "      <td>NaN</td>\n",
       "      <td>http://www.vgchartz.com/game/2667/wii-sports/?...</td>\n",
       "      <td>1</td>\n",
       "      <td>NaN</td>\n",
       "      <td>/games/boxart/full_2258645AmericaFrontccc.jpg</td>\n",
       "    </tr>\n",
       "    <tr>\n",
       "      <th>1</th>\n",
       "      <td>2</td>\n",
       "      <td>Super Mario Bros.</td>\n",
       "      <td>super-mario-bros</td>\n",
       "      <td>Platform</td>\n",
       "      <td>NaN</td>\n",
       "      <td>NES</td>\n",
       "      <td>Nintendo</td>\n",
       "      <td>Nintendo EAD</td>\n",
       "      <td>NaN</td>\n",
       "      <td>10.0</td>\n",
       "      <td>...</td>\n",
       "      <td>NaN</td>\n",
       "      <td>NaN</td>\n",
       "      <td>NaN</td>\n",
       "      <td>NaN</td>\n",
       "      <td>1985.0</td>\n",
       "      <td>NaN</td>\n",
       "      <td>http://www.vgchartz.com/game/6455/super-mario-...</td>\n",
       "      <td>1</td>\n",
       "      <td>NaN</td>\n",
       "      <td>/games/boxart/8972270ccc.jpg</td>\n",
       "    </tr>\n",
       "    <tr>\n",
       "      <th>2</th>\n",
       "      <td>3</td>\n",
       "      <td>Mario Kart Wii</td>\n",
       "      <td>mario-kart-wii</td>\n",
       "      <td>Racing</td>\n",
       "      <td>E</td>\n",
       "      <td>Wii</td>\n",
       "      <td>Nintendo</td>\n",
       "      <td>Nintendo EAD</td>\n",
       "      <td>NaN</td>\n",
       "      <td>8.2</td>\n",
       "      <td>...</td>\n",
       "      <td>NaN</td>\n",
       "      <td>NaN</td>\n",
       "      <td>NaN</td>\n",
       "      <td>NaN</td>\n",
       "      <td>2008.0</td>\n",
       "      <td>11th Apr 18</td>\n",
       "      <td>http://www.vgchartz.com/game/6968/mario-kart-w...</td>\n",
       "      <td>1</td>\n",
       "      <td>8.7</td>\n",
       "      <td>/games/boxart/full_8932480AmericaFrontccc.jpg</td>\n",
       "    </tr>\n",
       "    <tr>\n",
       "      <th>3</th>\n",
       "      <td>4</td>\n",
       "      <td>PlayerUnknown's Battlegrounds</td>\n",
       "      <td>playerunknowns-battlegrounds</td>\n",
       "      <td>Shooter</td>\n",
       "      <td>NaN</td>\n",
       "      <td>PC</td>\n",
       "      <td>PUBG Corporation</td>\n",
       "      <td>PUBG Corporation</td>\n",
       "      <td>NaN</td>\n",
       "      <td>NaN</td>\n",
       "      <td>...</td>\n",
       "      <td>NaN</td>\n",
       "      <td>NaN</td>\n",
       "      <td>NaN</td>\n",
       "      <td>NaN</td>\n",
       "      <td>2017.0</td>\n",
       "      <td>13th Nov 18</td>\n",
       "      <td>http://www.vgchartz.com/game/215988/playerunkn...</td>\n",
       "      <td>1</td>\n",
       "      <td>NaN</td>\n",
       "      <td>/games/boxart/full_8052843AmericaFrontccc.jpg</td>\n",
       "    </tr>\n",
       "    <tr>\n",
       "      <th>4</th>\n",
       "      <td>5</td>\n",
       "      <td>Wii Sports Resort</td>\n",
       "      <td>wii-sports-resort</td>\n",
       "      <td>Sports</td>\n",
       "      <td>E</td>\n",
       "      <td>Wii</td>\n",
       "      <td>Nintendo</td>\n",
       "      <td>Nintendo EAD</td>\n",
       "      <td>NaN</td>\n",
       "      <td>8.0</td>\n",
       "      <td>...</td>\n",
       "      <td>NaN</td>\n",
       "      <td>NaN</td>\n",
       "      <td>NaN</td>\n",
       "      <td>NaN</td>\n",
       "      <td>2009.0</td>\n",
       "      <td>NaN</td>\n",
       "      <td>http://www.vgchartz.com/game/24656/wii-sports-...</td>\n",
       "      <td>1</td>\n",
       "      <td>8.8</td>\n",
       "      <td>/games/boxart/full_7295041AmericaFrontccc.jpg</td>\n",
       "    </tr>\n",
       "  </tbody>\n",
       "</table>\n",
       "<p>5 rows × 23 columns</p>\n",
       "</div>"
      ],
      "text/plain": [
       "   Rank                           Name                      basename  \\\n",
       "0     1                     Wii Sports                    wii-sports   \n",
       "1     2              Super Mario Bros.              super-mario-bros   \n",
       "2     3                 Mario Kart Wii                mario-kart-wii   \n",
       "3     4  PlayerUnknown's Battlegrounds  playerunknowns-battlegrounds   \n",
       "4     5              Wii Sports Resort             wii-sports-resort   \n",
       "\n",
       "      Genre ESRB_Rating Platform         Publisher         Developer  \\\n",
       "0    Sports           E      Wii          Nintendo      Nintendo EAD   \n",
       "1  Platform         NaN      NES          Nintendo      Nintendo EAD   \n",
       "2    Racing           E      Wii          Nintendo      Nintendo EAD   \n",
       "3   Shooter         NaN       PC  PUBG Corporation  PUBG Corporation   \n",
       "4    Sports           E      Wii          Nintendo      Nintendo EAD   \n",
       "\n",
       "   VGChartz_Score  Critic_Score  ...  NA_Sales  PAL_Sales  JP_Sales  \\\n",
       "0             NaN           7.7  ...       NaN        NaN       NaN   \n",
       "1             NaN          10.0  ...       NaN        NaN       NaN   \n",
       "2             NaN           8.2  ...       NaN        NaN       NaN   \n",
       "3             NaN           NaN  ...       NaN        NaN       NaN   \n",
       "4             NaN           8.0  ...       NaN        NaN       NaN   \n",
       "\n",
       "   Other_Sales    Year  Last_Update  \\\n",
       "0          NaN  2006.0          NaN   \n",
       "1          NaN  1985.0          NaN   \n",
       "2          NaN  2008.0  11th Apr 18   \n",
       "3          NaN  2017.0  13th Nov 18   \n",
       "4          NaN  2009.0          NaN   \n",
       "\n",
       "                                                 url  status Vgchartzscore  \\\n",
       "0  http://www.vgchartz.com/game/2667/wii-sports/?...       1           NaN   \n",
       "1  http://www.vgchartz.com/game/6455/super-mario-...       1           NaN   \n",
       "2  http://www.vgchartz.com/game/6968/mario-kart-w...       1           8.7   \n",
       "3  http://www.vgchartz.com/game/215988/playerunkn...       1           NaN   \n",
       "4  http://www.vgchartz.com/game/24656/wii-sports-...       1           8.8   \n",
       "\n",
       "                                         img_url  \n",
       "0  /games/boxart/full_2258645AmericaFrontccc.jpg  \n",
       "1                   /games/boxart/8972270ccc.jpg  \n",
       "2  /games/boxart/full_8932480AmericaFrontccc.jpg  \n",
       "3  /games/boxart/full_8052843AmericaFrontccc.jpg  \n",
       "4  /games/boxart/full_7295041AmericaFrontccc.jpg  \n",
       "\n",
       "[5 rows x 23 columns]"
      ]
     },
     "execution_count": 86,
     "metadata": {},
     "output_type": "execute_result"
    }
   ],
   "source": [
    "df = pd.read_csv('vgsales.csv')\n",
    "df.head()"
   ]
  },
  {
   "cell_type": "code",
   "execution_count": 87,
   "metadata": {},
   "outputs": [
    {
     "data": {
      "text/plain": [
       "(55792, 23)"
      ]
     },
     "execution_count": 87,
     "metadata": {},
     "output_type": "execute_result"
    }
   ],
   "source": [
    "df.shape"
   ]
  },
  {
   "cell_type": "code",
   "execution_count": 88,
   "metadata": {},
   "outputs": [
    {
     "data": {
      "text/plain": [
       "(1970.0, 2020.0)"
      ]
     },
     "execution_count": 88,
     "metadata": {},
     "output_type": "execute_result"
    }
   ],
   "source": [
    "df.Year.min(), df.Year.max()"
   ]
  },
  {
   "cell_type": "markdown",
   "metadata": {},
   "source": [
    "The dataset consists of 23 different features of 55792 videogames released between 1970 and 2020."
   ]
  },
  {
   "cell_type": "code",
   "execution_count": 89,
   "metadata": {},
   "outputs": [
    {
     "name": "stdout",
     "output_type": "stream",
     "text": [
      "<class 'pandas.core.frame.DataFrame'>\n",
      "RangeIndex: 55792 entries, 0 to 55791\n",
      "Data columns (total 23 columns):\n",
      " #   Column          Non-Null Count  Dtype  \n",
      "---  ------          --------------  -----  \n",
      " 0   Rank            55792 non-null  int64  \n",
      " 1   Name            55792 non-null  object \n",
      " 2   basename        55792 non-null  object \n",
      " 3   Genre           55792 non-null  object \n",
      " 4   ESRB_Rating     23623 non-null  object \n",
      " 5   Platform        55792 non-null  object \n",
      " 6   Publisher       55792 non-null  object \n",
      " 7   Developer       55775 non-null  object \n",
      " 8   VGChartz_Score  0 non-null      float64\n",
      " 9   Critic_Score    6536 non-null   float64\n",
      " 10  User_Score      335 non-null    float64\n",
      " 11  Total_Shipped   1827 non-null   float64\n",
      " 12  Global_Sales    19415 non-null  float64\n",
      " 13  NA_Sales        12964 non-null  float64\n",
      " 14  PAL_Sales       13189 non-null  float64\n",
      " 15  JP_Sales        7043 non-null   float64\n",
      " 16  Other_Sales     15522 non-null  float64\n",
      " 17  Year            54813 non-null  float64\n",
      " 18  Last_Update     9186 non-null   object \n",
      " 19  url             55792 non-null  object \n",
      " 20  status          55792 non-null  int64  \n",
      " 21  Vgchartzscore   799 non-null    float64\n",
      " 22  img_url         55792 non-null  object \n",
      "dtypes: float64(11), int64(2), object(10)\n",
      "memory usage: 9.8+ MB\n"
     ]
    }
   ],
   "source": [
    "df.info()"
   ]
  },
  {
   "cell_type": "code",
   "execution_count": 90,
   "metadata": {},
   "outputs": [
    {
     "name": "stderr",
     "output_type": "stream",
     "text": [
      "c:\\Users\\vitor\\AppData\\Local\\Programs\\Python\\Python39\\lib\\site-packages\\seaborn\\_decorators.py:36: FutureWarning: Pass the following variables as keyword args: x, y. From version 0.12, the only valid positional argument will be `data`, and passing other arguments without an explicit keyword will result in an error or misinterpretation.\n",
      "  warnings.warn(\n"
     ]
    },
    {
     "data": {
      "image/png": "[encoded data removed]",
      "text/plain": [
       "<Figure size 432x288 with 1 Axes>"
      ]
     },
     "metadata": {
      "needs_background": "light"
     },
     "output_type": "display_data"
    }
   ],
   "source": [
    "missing_pct = df.isna().mean() * 100\n",
    "sns.barplot(missing_pct.index, missing_pct.values)\n",
    "plt.xticks(rotation = 90)\n",
    "plt.show()"
   ]
  },
  {
   "cell_type": "markdown",
   "metadata": {},
   "source": [
    "As Global Sales is going to be our label, we can't work with datapoints that don't have that data, so we're going to drop every row that doesn't contain Global Sales, which unfortunately as seen before accounts for 65% of our dataset."
   ]
  },
  {
   "cell_type": "code",
   "execution_count": 91,
   "metadata": {},
   "outputs": [
    {
     "data": {
      "text/html": [
       "<div>\n",
       "<style scoped>\n",
       "    .dataframe tbody tr th:only-of-type {\n",
       "        vertical-align: middle;\n",
       "    }\n",
       "\n",
       "    .dataframe tbody tr th {\n",
       "        vertical-align: top;\n",
       "    }\n",
       "\n",
       "    .dataframe thead th {\n",
       "        text-align: right;\n",
       "    }\n",
       "</style>\n",
       "<table border=\"1\" class=\"dataframe\">\n",
       "  <thead>\n",
       "    <tr style=\"text-align: right;\">\n",
       "      <th></th>\n",
       "      <th>Rank</th>\n",
       "      <th>Name</th>\n",
       "      <th>basename</th>\n",
       "      <th>Genre</th>\n",
       "      <th>ESRB_Rating</th>\n",
       "      <th>Platform</th>\n",
       "      <th>Publisher</th>\n",
       "      <th>Developer</th>\n",
       "      <th>VGChartz_Score</th>\n",
       "      <th>Critic_Score</th>\n",
       "      <th>...</th>\n",
       "      <th>NA_Sales</th>\n",
       "      <th>PAL_Sales</th>\n",
       "      <th>JP_Sales</th>\n",
       "      <th>Other_Sales</th>\n",
       "      <th>Year</th>\n",
       "      <th>Last_Update</th>\n",
       "      <th>url</th>\n",
       "      <th>status</th>\n",
       "      <th>Vgchartzscore</th>\n",
       "      <th>img_url</th>\n",
       "    </tr>\n",
       "  </thead>\n",
       "  <tbody>\n",
       "    <tr>\n",
       "      <th>19</th>\n",
       "      <td>20</td>\n",
       "      <td>Grand Theft Auto V</td>\n",
       "      <td>grand-theft-auto-v</td>\n",
       "      <td>Action</td>\n",
       "      <td>M</td>\n",
       "      <td>PS3</td>\n",
       "      <td>Rockstar Games</td>\n",
       "      <td>Rockstar North</td>\n",
       "      <td>NaN</td>\n",
       "      <td>9.4</td>\n",
       "      <td>...</td>\n",
       "      <td>6.37</td>\n",
       "      <td>9.85</td>\n",
       "      <td>0.99</td>\n",
       "      <td>3.12</td>\n",
       "      <td>2013.0</td>\n",
       "      <td>NaN</td>\n",
       "      <td>http://www.vgchartz.com/game/65884/grand-theft...</td>\n",
       "      <td>1</td>\n",
       "      <td>NaN</td>\n",
       "      <td>/games/boxart/full_6510540AmericaFrontccc.jpg</td>\n",
       "    </tr>\n",
       "    <tr>\n",
       "      <th>20</th>\n",
       "      <td>21</td>\n",
       "      <td>Grand Theft Auto V</td>\n",
       "      <td>grand-theft-auto-v</td>\n",
       "      <td>Action</td>\n",
       "      <td>M</td>\n",
       "      <td>PS4</td>\n",
       "      <td>Rockstar Games</td>\n",
       "      <td>Rockstar North</td>\n",
       "      <td>NaN</td>\n",
       "      <td>9.7</td>\n",
       "      <td>...</td>\n",
       "      <td>6.06</td>\n",
       "      <td>9.71</td>\n",
       "      <td>0.60</td>\n",
       "      <td>3.02</td>\n",
       "      <td>2014.0</td>\n",
       "      <td>03rd Jan 18</td>\n",
       "      <td>http://www.vgchartz.com/game/83196/grand-theft...</td>\n",
       "      <td>1</td>\n",
       "      <td>NaN</td>\n",
       "      <td>/games/boxart/full_5563178AmericaFrontccc.jpg</td>\n",
       "    </tr>\n",
       "    <tr>\n",
       "      <th>30</th>\n",
       "      <td>31</td>\n",
       "      <td>Grand Theft Auto: Vice City</td>\n",
       "      <td>grand-theft-auto-vice-city</td>\n",
       "      <td>Action</td>\n",
       "      <td>M</td>\n",
       "      <td>PS2</td>\n",
       "      <td>Rockstar Games</td>\n",
       "      <td>Rockstar North</td>\n",
       "      <td>NaN</td>\n",
       "      <td>9.6</td>\n",
       "      <td>...</td>\n",
       "      <td>8.41</td>\n",
       "      <td>5.49</td>\n",
       "      <td>0.47</td>\n",
       "      <td>1.78</td>\n",
       "      <td>2002.0</td>\n",
       "      <td>NaN</td>\n",
       "      <td>http://www.vgchartz.com/game/896/grand-theft-a...</td>\n",
       "      <td>1</td>\n",
       "      <td>NaN</td>\n",
       "      <td>/games/boxart/827563ccc.jpg</td>\n",
       "    </tr>\n",
       "    <tr>\n",
       "      <th>32</th>\n",
       "      <td>33</td>\n",
       "      <td>Grand Theft Auto V</td>\n",
       "      <td>grand-theft-auto-v</td>\n",
       "      <td>Action</td>\n",
       "      <td>M</td>\n",
       "      <td>X360</td>\n",
       "      <td>Rockstar Games</td>\n",
       "      <td>Rockstar North</td>\n",
       "      <td>NaN</td>\n",
       "      <td>NaN</td>\n",
       "      <td>...</td>\n",
       "      <td>9.06</td>\n",
       "      <td>5.33</td>\n",
       "      <td>0.06</td>\n",
       "      <td>1.42</td>\n",
       "      <td>2013.0</td>\n",
       "      <td>NaN</td>\n",
       "      <td>http://www.vgchartz.com/game/65883/grand-theft...</td>\n",
       "      <td>1</td>\n",
       "      <td>NaN</td>\n",
       "      <td>/games/boxart/full_9218923AmericaFrontccc.jpg</td>\n",
       "    </tr>\n",
       "    <tr>\n",
       "      <th>34</th>\n",
       "      <td>35</td>\n",
       "      <td>Call of Duty: Black Ops 3</td>\n",
       "      <td>call-of-duty-black-ops-3</td>\n",
       "      <td>Shooter</td>\n",
       "      <td>M</td>\n",
       "      <td>PS4</td>\n",
       "      <td>Activision</td>\n",
       "      <td>Treyarch</td>\n",
       "      <td>NaN</td>\n",
       "      <td>NaN</td>\n",
       "      <td>...</td>\n",
       "      <td>6.18</td>\n",
       "      <td>6.05</td>\n",
       "      <td>0.41</td>\n",
       "      <td>2.44</td>\n",
       "      <td>2015.0</td>\n",
       "      <td>14th Jan 18</td>\n",
       "      <td>http://www.vgchartz.com/game/85359/call-of-dut...</td>\n",
       "      <td>1</td>\n",
       "      <td>NaN</td>\n",
       "      <td>/games/boxart/full_4990510AmericaFrontccc.jpg</td>\n",
       "    </tr>\n",
       "  </tbody>\n",
       "</table>\n",
       "<p>5 rows × 23 columns</p>\n",
       "</div>"
      ],
      "text/plain": [
       "    Rank                         Name                    basename    Genre  \\\n",
       "19    20           Grand Theft Auto V          grand-theft-auto-v   Action   \n",
       "20    21           Grand Theft Auto V          grand-theft-auto-v   Action   \n",
       "30    31  Grand Theft Auto: Vice City  grand-theft-auto-vice-city   Action   \n",
       "32    33           Grand Theft Auto V          grand-theft-auto-v   Action   \n",
       "34    35    Call of Duty: Black Ops 3    call-of-duty-black-ops-3  Shooter   \n",
       "\n",
       "   ESRB_Rating Platform       Publisher       Developer  VGChartz_Score  \\\n",
       "19           M      PS3  Rockstar Games  Rockstar North             NaN   \n",
       "20           M      PS4  Rockstar Games  Rockstar North             NaN   \n",
       "30           M      PS2  Rockstar Games  Rockstar North             NaN   \n",
       "32           M     X360  Rockstar Games  Rockstar North             NaN   \n",
       "34           M      PS4      Activision        Treyarch             NaN   \n",
       "\n",
       "    Critic_Score  ...  NA_Sales  PAL_Sales  JP_Sales  Other_Sales    Year  \\\n",
       "19           9.4  ...      6.37       9.85      0.99         3.12  2013.0   \n",
       "20           9.7  ...      6.06       9.71      0.60         3.02  2014.0   \n",
       "30           9.6  ...      8.41       5.49      0.47         1.78  2002.0   \n",
       "32           NaN  ...      9.06       5.33      0.06         1.42  2013.0   \n",
       "34           NaN  ...      6.18       6.05      0.41         2.44  2015.0   \n",
       "\n",
       "    Last_Update                                                url  status  \\\n",
       "19          NaN  http://www.vgchartz.com/game/65884/grand-theft...       1   \n",
       "20  03rd Jan 18  http://www.vgchartz.com/game/83196/grand-theft...       1   \n",
       "30          NaN  http://www.vgchartz.com/game/896/grand-theft-a...       1   \n",
       "32          NaN  http://www.vgchartz.com/game/65883/grand-theft...       1   \n",
       "34  14th Jan 18  http://www.vgchartz.com/game/85359/call-of-dut...       1   \n",
       "\n",
       "   Vgchartzscore                                        img_url  \n",
       "19           NaN  /games/boxart/full_6510540AmericaFrontccc.jpg  \n",
       "20           NaN  /games/boxart/full_5563178AmericaFrontccc.jpg  \n",
       "30           NaN                    /games/boxart/827563ccc.jpg  \n",
       "32           NaN  /games/boxart/full_9218923AmericaFrontccc.jpg  \n",
       "34           NaN  /games/boxart/full_4990510AmericaFrontccc.jpg  \n",
       "\n",
       "[5 rows x 23 columns]"
      ]
     },
     "execution_count": 91,
     "metadata": {},
     "output_type": "execute_result"
    }
   ],
   "source": [
    "df = df[df['Global_Sales'].notna()]\n",
    "df.head()"
   ]
  },
  {
   "cell_type": "code",
   "execution_count": 92,
   "metadata": {},
   "outputs": [
    {
     "data": {
      "text/plain": [
       "Rank              0.000000\n",
       "Name              0.000000\n",
       "basename          0.000000\n",
       "Genre             0.000000\n",
       "ESRB_Rating       0.288694\n",
       "Platform          0.000000\n",
       "Publisher         0.000000\n",
       "Developer         0.000206\n",
       "VGChartz_Score    1.000000\n",
       "Critic_Score      0.779809\n",
       "User_Score        0.991141\n",
       "Total_Shipped     1.000000\n",
       "Global_Sales      0.000000\n",
       "NA_Sales          0.332269\n",
       "PAL_Sales         0.320680\n",
       "JP_Sales          0.637239\n",
       "Other_Sales       0.200515\n",
       "Year              0.001957\n",
       "Last_Update       0.803605\n",
       "url               0.000000\n",
       "status            0.000000\n",
       "Vgchartzscore     0.976771\n",
       "img_url           0.000000\n",
       "dtype: float64"
      ]
     },
     "execution_count": 92,
     "metadata": {},
     "output_type": "execute_result"
    }
   ],
   "source": [
    "df.isna().mean()"
   ]
  },
  {
   "cell_type": "markdown",
   "metadata": {},
   "source": [
    "There are columns that don't hold semantic meaning and columns that have too many missing values. Those are going to be dropped."
   ]
  },
  {
   "cell_type": "code",
   "execution_count": 93,
   "metadata": {},
   "outputs": [
    {
     "data": {
      "text/html": [
       "<div>\n",
       "<style scoped>\n",
       "    .dataframe tbody tr th:only-of-type {\n",
       "        vertical-align: middle;\n",
       "    }\n",
       "\n",
       "    .dataframe tbody tr th {\n",
       "        vertical-align: top;\n",
       "    }\n",
       "\n",
       "    .dataframe thead th {\n",
       "        text-align: right;\n",
       "    }\n",
       "</style>\n",
       "<table border=\"1\" class=\"dataframe\">\n",
       "  <thead>\n",
       "    <tr style=\"text-align: right;\">\n",
       "      <th></th>\n",
       "      <th>Name</th>\n",
       "      <th>Genre</th>\n",
       "      <th>ESRB_Rating</th>\n",
       "      <th>Platform</th>\n",
       "      <th>Publisher</th>\n",
       "      <th>Developer</th>\n",
       "      <th>Global_Sales</th>\n",
       "      <th>NA_Sales</th>\n",
       "      <th>PAL_Sales</th>\n",
       "      <th>JP_Sales</th>\n",
       "      <th>Other_Sales</th>\n",
       "      <th>Year</th>\n",
       "    </tr>\n",
       "  </thead>\n",
       "  <tbody>\n",
       "    <tr>\n",
       "      <th>19</th>\n",
       "      <td>Grand Theft Auto V</td>\n",
       "      <td>Action</td>\n",
       "      <td>M</td>\n",
       "      <td>PS3</td>\n",
       "      <td>Rockstar Games</td>\n",
       "      <td>Rockstar North</td>\n",
       "      <td>20.32</td>\n",
       "      <td>6.37</td>\n",
       "      <td>9.85</td>\n",
       "      <td>0.99</td>\n",
       "      <td>3.12</td>\n",
       "      <td>2013.0</td>\n",
       "    </tr>\n",
       "    <tr>\n",
       "      <th>20</th>\n",
       "      <td>Grand Theft Auto V</td>\n",
       "      <td>Action</td>\n",
       "      <td>M</td>\n",
       "      <td>PS4</td>\n",
       "      <td>Rockstar Games</td>\n",
       "      <td>Rockstar North</td>\n",
       "      <td>19.39</td>\n",
       "      <td>6.06</td>\n",
       "      <td>9.71</td>\n",
       "      <td>0.60</td>\n",
       "      <td>3.02</td>\n",
       "      <td>2014.0</td>\n",
       "    </tr>\n",
       "    <tr>\n",
       "      <th>30</th>\n",
       "      <td>Grand Theft Auto: Vice City</td>\n",
       "      <td>Action</td>\n",
       "      <td>M</td>\n",
       "      <td>PS2</td>\n",
       "      <td>Rockstar Games</td>\n",
       "      <td>Rockstar North</td>\n",
       "      <td>16.15</td>\n",
       "      <td>8.41</td>\n",
       "      <td>5.49</td>\n",
       "      <td>0.47</td>\n",
       "      <td>1.78</td>\n",
       "      <td>2002.0</td>\n",
       "    </tr>\n",
       "    <tr>\n",
       "      <th>32</th>\n",
       "      <td>Grand Theft Auto V</td>\n",
       "      <td>Action</td>\n",
       "      <td>M</td>\n",
       "      <td>X360</td>\n",
       "      <td>Rockstar Games</td>\n",
       "      <td>Rockstar North</td>\n",
       "      <td>15.86</td>\n",
       "      <td>9.06</td>\n",
       "      <td>5.33</td>\n",
       "      <td>0.06</td>\n",
       "      <td>1.42</td>\n",
       "      <td>2013.0</td>\n",
       "    </tr>\n",
       "    <tr>\n",
       "      <th>34</th>\n",
       "      <td>Call of Duty: Black Ops 3</td>\n",
       "      <td>Shooter</td>\n",
       "      <td>M</td>\n",
       "      <td>PS4</td>\n",
       "      <td>Activision</td>\n",
       "      <td>Treyarch</td>\n",
       "      <td>15.09</td>\n",
       "      <td>6.18</td>\n",
       "      <td>6.05</td>\n",
       "      <td>0.41</td>\n",
       "      <td>2.44</td>\n",
       "      <td>2015.0</td>\n",
       "    </tr>\n",
       "  </tbody>\n",
       "</table>\n",
       "</div>"
      ],
      "text/plain": [
       "                           Name    Genre ESRB_Rating Platform       Publisher  \\\n",
       "19           Grand Theft Auto V   Action           M      PS3  Rockstar Games   \n",
       "20           Grand Theft Auto V   Action           M      PS4  Rockstar Games   \n",
       "30  Grand Theft Auto: Vice City   Action           M      PS2  Rockstar Games   \n",
       "32           Grand Theft Auto V   Action           M     X360  Rockstar Games   \n",
       "34    Call of Duty: Black Ops 3  Shooter           M      PS4      Activision   \n",
       "\n",
       "         Developer  Global_Sales  NA_Sales  PAL_Sales  JP_Sales  Other_Sales  \\\n",
       "19  Rockstar North         20.32      6.37       9.85      0.99         3.12   \n",
       "20  Rockstar North         19.39      6.06       9.71      0.60         3.02   \n",
       "30  Rockstar North         16.15      8.41       5.49      0.47         1.78   \n",
       "32  Rockstar North         15.86      9.06       5.33      0.06         1.42   \n",
       "34        Treyarch         15.09      6.18       6.05      0.41         2.44   \n",
       "\n",
       "      Year  \n",
       "19  2013.0  \n",
       "20  2014.0  \n",
       "30  2002.0  \n",
       "32  2013.0  \n",
       "34  2015.0  "
      ]
     },
     "execution_count": 93,
     "metadata": {},
     "output_type": "execute_result"
    }
   ],
   "source": [
    "df = df.drop(labels=['Rank', 'basename', 'VGChartz_Score', 'Critic_Score', 'User_Score', 'Total_Shipped', 'Last_Update', 'Vgchartzscore', 'img_url', 'status', 'url'], axis=1)\n",
    "df.head()"
   ]
  },
  {
   "cell_type": "markdown",
   "metadata": {},
   "source": [
    "As only around 0.20% of the entries have missing Year, the method chosen to deal with these missing values is to input the mean value."
   ]
  },
  {
   "cell_type": "code",
   "execution_count": 94,
   "metadata": {},
   "outputs": [],
   "source": [
    "df.Year.fillna(df.Year.mean(), inplace=True)"
   ]
  },
  {
   "cell_type": "markdown",
   "metadata": {},
   "source": [
    "Next we're going to drop duplicated entries on the subset determined by the following features: Genre, ESRB_Rating, Platform, Publisher, Developer, Year."
   ]
  },
  {
   "cell_type": "code",
   "execution_count": 95,
   "metadata": {},
   "outputs": [],
   "source": [
    "df.duplicated(subset=['Genre', 'ESRB_Rating', 'Platform', 'Publisher', 'Developer', 'Year', 'Global_Sales']).sum()\n",
    "df.drop_duplicates(subset=['Genre', 'ESRB_Rating', 'Platform', 'Publisher', 'Developer', 'Year', 'Global_Sales'], inplace=True)"
   ]
  },
  {
   "cell_type": "code",
   "execution_count": 96,
   "metadata": {},
   "outputs": [
    {
     "data": {
      "text/html": [
       "<div>\n",
       "<style scoped>\n",
       "    .dataframe tbody tr th:only-of-type {\n",
       "        vertical-align: middle;\n",
       "    }\n",
       "\n",
       "    .dataframe tbody tr th {\n",
       "        vertical-align: top;\n",
       "    }\n",
       "\n",
       "    .dataframe thead th {\n",
       "        text-align: right;\n",
       "    }\n",
       "</style>\n",
       "<table border=\"1\" class=\"dataframe\">\n",
       "  <thead>\n",
       "    <tr style=\"text-align: right;\">\n",
       "      <th></th>\n",
       "      <th>Global_Sales</th>\n",
       "      <th>NA_Sales</th>\n",
       "      <th>PAL_Sales</th>\n",
       "      <th>JP_Sales</th>\n",
       "      <th>Other_Sales</th>\n",
       "      <th>Year</th>\n",
       "    </tr>\n",
       "  </thead>\n",
       "  <tbody>\n",
       "    <tr>\n",
       "      <th>count</th>\n",
       "      <td>19087.000000</td>\n",
       "      <td>12925.000000</td>\n",
       "      <td>13125.000000</td>\n",
       "      <td>6785.000000</td>\n",
       "      <td>15450.000000</td>\n",
       "      <td>19087.000000</td>\n",
       "    </tr>\n",
       "    <tr>\n",
       "      <th>mean</th>\n",
       "      <td>0.371136</td>\n",
       "      <td>0.276074</td>\n",
       "      <td>0.155880</td>\n",
       "      <td>0.113713</td>\n",
       "      <td>0.044892</td>\n",
       "      <td>2007.581237</td>\n",
       "    </tr>\n",
       "    <tr>\n",
       "      <th>std</th>\n",
       "      <td>0.838930</td>\n",
       "      <td>0.513447</td>\n",
       "      <td>0.400094</td>\n",
       "      <td>0.187128</td>\n",
       "      <td>0.129820</td>\n",
       "      <td>6.122503</td>\n",
       "    </tr>\n",
       "    <tr>\n",
       "      <th>min</th>\n",
       "      <td>0.000000</td>\n",
       "      <td>0.000000</td>\n",
       "      <td>0.000000</td>\n",
       "      <td>0.000000</td>\n",
       "      <td>0.000000</td>\n",
       "      <td>1970.000000</td>\n",
       "    </tr>\n",
       "    <tr>\n",
       "      <th>25%</th>\n",
       "      <td>0.040000</td>\n",
       "      <td>0.050000</td>\n",
       "      <td>0.010000</td>\n",
       "      <td>0.020000</td>\n",
       "      <td>0.000000</td>\n",
       "      <td>2004.000000</td>\n",
       "    </tr>\n",
       "    <tr>\n",
       "      <th>50%</th>\n",
       "      <td>0.130000</td>\n",
       "      <td>0.120000</td>\n",
       "      <td>0.040000</td>\n",
       "      <td>0.050000</td>\n",
       "      <td>0.010000</td>\n",
       "      <td>2008.000000</td>\n",
       "    </tr>\n",
       "    <tr>\n",
       "      <th>75%</th>\n",
       "      <td>0.370000</td>\n",
       "      <td>0.290000</td>\n",
       "      <td>0.140000</td>\n",
       "      <td>0.130000</td>\n",
       "      <td>0.040000</td>\n",
       "      <td>2011.000000</td>\n",
       "    </tr>\n",
       "    <tr>\n",
       "      <th>max</th>\n",
       "      <td>20.320000</td>\n",
       "      <td>9.760000</td>\n",
       "      <td>9.850000</td>\n",
       "      <td>2.690000</td>\n",
       "      <td>3.120000</td>\n",
       "      <td>2020.000000</td>\n",
       "    </tr>\n",
       "  </tbody>\n",
       "</table>\n",
       "</div>"
      ],
      "text/plain": [
       "       Global_Sales      NA_Sales     PAL_Sales     JP_Sales   Other_Sales  \\\n",
       "count  19087.000000  12925.000000  13125.000000  6785.000000  15450.000000   \n",
       "mean       0.371136      0.276074      0.155880     0.113713      0.044892   \n",
       "std        0.838930      0.513447      0.400094     0.187128      0.129820   \n",
       "min        0.000000      0.000000      0.000000     0.000000      0.000000   \n",
       "25%        0.040000      0.050000      0.010000     0.020000      0.000000   \n",
       "50%        0.130000      0.120000      0.040000     0.050000      0.010000   \n",
       "75%        0.370000      0.290000      0.140000     0.130000      0.040000   \n",
       "max       20.320000      9.760000      9.850000     2.690000      3.120000   \n",
       "\n",
       "               Year  \n",
       "count  19087.000000  \n",
       "mean    2007.581237  \n",
       "std        6.122503  \n",
       "min     1970.000000  \n",
       "25%     2004.000000  \n",
       "50%     2008.000000  \n",
       "75%     2011.000000  \n",
       "max     2020.000000  "
      ]
     },
     "execution_count": 96,
     "metadata": {},
     "output_type": "execute_result"
    }
   ],
   "source": [
    "df.describe(include=np.number)"
   ]
  },
  {
   "cell_type": "code",
   "execution_count": 97,
   "metadata": {},
   "outputs": [
    {
     "name": "stderr",
     "output_type": "stream",
     "text": [
      "<ipython-input-97-f5c37ff7ec99>:1: DeprecationWarning: `np.object` is a deprecated alias for the builtin `object`. To silence this warning, use `object` by itself. Doing this will not modify any behavior and is safe. \n",
      "Deprecated in NumPy 1.20; for more details and guidance: https://numpy.org/devdocs/release/1.20.0-notes.html#deprecations\n",
      "  df.describe(include=np.object)\n"
     ]
    },
    {
     "data": {
      "text/html": [
       "<div>\n",
       "<style scoped>\n",
       "    .dataframe tbody tr th:only-of-type {\n",
       "        vertical-align: middle;\n",
       "    }\n",
       "\n",
       "    .dataframe tbody tr th {\n",
       "        vertical-align: top;\n",
       "    }\n",
       "\n",
       "    .dataframe thead th {\n",
       "        text-align: right;\n",
       "    }\n",
       "</style>\n",
       "<table border=\"1\" class=\"dataframe\">\n",
       "  <thead>\n",
       "    <tr style=\"text-align: right;\">\n",
       "      <th></th>\n",
       "      <th>Name</th>\n",
       "      <th>Genre</th>\n",
       "      <th>ESRB_Rating</th>\n",
       "      <th>Platform</th>\n",
       "      <th>Publisher</th>\n",
       "      <th>Developer</th>\n",
       "    </tr>\n",
       "  </thead>\n",
       "  <tbody>\n",
       "    <tr>\n",
       "      <th>count</th>\n",
       "      <td>19087</td>\n",
       "      <td>19087</td>\n",
       "      <td>13763</td>\n",
       "      <td>19087</td>\n",
       "      <td>19087</td>\n",
       "      <td>19083</td>\n",
       "    </tr>\n",
       "    <tr>\n",
       "      <th>unique</th>\n",
       "      <td>13097</td>\n",
       "      <td>20</td>\n",
       "      <td>6</td>\n",
       "      <td>39</td>\n",
       "      <td>744</td>\n",
       "      <td>2852</td>\n",
       "    </tr>\n",
       "    <tr>\n",
       "      <th>top</th>\n",
       "      <td>Madden NFL 08</td>\n",
       "      <td>Action</td>\n",
       "      <td>E</td>\n",
       "      <td>DS</td>\n",
       "      <td>Activision</td>\n",
       "      <td>Unknown</td>\n",
       "    </tr>\n",
       "    <tr>\n",
       "      <th>freq</th>\n",
       "      <td>9</td>\n",
       "      <td>2874</td>\n",
       "      <td>5857</td>\n",
       "      <td>2386</td>\n",
       "      <td>1051</td>\n",
       "      <td>626</td>\n",
       "    </tr>\n",
       "  </tbody>\n",
       "</table>\n",
       "</div>"
      ],
      "text/plain": [
       "                 Name   Genre ESRB_Rating Platform   Publisher Developer\n",
       "count           19087   19087       13763    19087       19087     19083\n",
       "unique          13097      20           6       39         744      2852\n",
       "top     Madden NFL 08  Action           E       DS  Activision   Unknown\n",
       "freq                9    2874        5857     2386        1051       626"
      ]
     },
     "execution_count": 97,
     "metadata": {},
     "output_type": "execute_result"
    }
   ],
   "source": [
    "df.describe(include=np.object)"
   ]
  },
  {
   "cell_type": "markdown",
   "metadata": {},
   "source": [
    "From the table above we found out that there are developers named as 'unknown', those rows are going to be dropped."
   ]
  },
  {
   "cell_type": "code",
   "execution_count": 98,
   "metadata": {},
   "outputs": [
    {
     "data": {
      "text/plain": [
       "(18457, 12)"
      ]
     },
     "execution_count": 98,
     "metadata": {},
     "output_type": "execute_result"
    }
   ],
   "source": [
    "df = df[df.Developer != 'Unknown']\n",
    "df = df[df.Developer.notna()]\n",
    "df.shape"
   ]
  },
  {
   "cell_type": "code",
   "execution_count": 99,
   "metadata": {},
   "outputs": [
    {
     "data": {
      "text/html": [
       "<div>\n",
       "<style scoped>\n",
       "    .dataframe tbody tr th:only-of-type {\n",
       "        vertical-align: middle;\n",
       "    }\n",
       "\n",
       "    .dataframe tbody tr th {\n",
       "        vertical-align: top;\n",
       "    }\n",
       "\n",
       "    .dataframe thead th {\n",
       "        text-align: right;\n",
       "    }\n",
       "</style>\n",
       "<table border=\"1\" class=\"dataframe\">\n",
       "  <thead>\n",
       "    <tr style=\"text-align: right;\">\n",
       "      <th></th>\n",
       "      <th>Name</th>\n",
       "      <th>Genre</th>\n",
       "      <th>ESRB_Rating</th>\n",
       "      <th>Platform</th>\n",
       "      <th>Publisher</th>\n",
       "      <th>Developer</th>\n",
       "      <th>Global_Sales</th>\n",
       "      <th>NA_Sales</th>\n",
       "      <th>PAL_Sales</th>\n",
       "      <th>JP_Sales</th>\n",
       "      <th>Other_Sales</th>\n",
       "      <th>Year</th>\n",
       "    </tr>\n",
       "  </thead>\n",
       "  <tbody>\n",
       "    <tr>\n",
       "      <th>309</th>\n",
       "      <td>Madden NFL 07</td>\n",
       "      <td>Sports</td>\n",
       "      <td>E</td>\n",
       "      <td>PS2</td>\n",
       "      <td>EA Sports</td>\n",
       "      <td>EA Tiburon</td>\n",
       "      <td>4.49</td>\n",
       "      <td>3.63</td>\n",
       "      <td>0.24</td>\n",
       "      <td>0.01</td>\n",
       "      <td>0.61</td>\n",
       "      <td>2006.0</td>\n",
       "    </tr>\n",
       "    <tr>\n",
       "      <th>1149</th>\n",
       "      <td>Madden NFL 07</td>\n",
       "      <td>Sports</td>\n",
       "      <td>E</td>\n",
       "      <td>X360</td>\n",
       "      <td>EA Sports</td>\n",
       "      <td>EA Tiburon</td>\n",
       "      <td>1.80</td>\n",
       "      <td>1.66</td>\n",
       "      <td>0.00</td>\n",
       "      <td>0.01</td>\n",
       "      <td>0.13</td>\n",
       "      <td>2006.0</td>\n",
       "    </tr>\n",
       "    <tr>\n",
       "      <th>2354</th>\n",
       "      <td>Madden NFL 07</td>\n",
       "      <td>Sports</td>\n",
       "      <td>E</td>\n",
       "      <td>XB</td>\n",
       "      <td>EA Sports</td>\n",
       "      <td>EA Tiburon</td>\n",
       "      <td>1.02</td>\n",
       "      <td>0.97</td>\n",
       "      <td>0.03</td>\n",
       "      <td>NaN</td>\n",
       "      <td>0.03</td>\n",
       "      <td>2006.0</td>\n",
       "    </tr>\n",
       "    <tr>\n",
       "      <th>2876</th>\n",
       "      <td>Madden NFL 07</td>\n",
       "      <td>Sports</td>\n",
       "      <td>E</td>\n",
       "      <td>PSP</td>\n",
       "      <td>EA Sports</td>\n",
       "      <td>EA Tiburon</td>\n",
       "      <td>0.83</td>\n",
       "      <td>0.77</td>\n",
       "      <td>0.03</td>\n",
       "      <td>NaN</td>\n",
       "      <td>0.04</td>\n",
       "      <td>2006.0</td>\n",
       "    </tr>\n",
       "    <tr>\n",
       "      <th>3721</th>\n",
       "      <td>Madden NFL 07</td>\n",
       "      <td>Sports</td>\n",
       "      <td>E</td>\n",
       "      <td>GC</td>\n",
       "      <td>EA Sports</td>\n",
       "      <td>EA Tiburon</td>\n",
       "      <td>0.62</td>\n",
       "      <td>0.48</td>\n",
       "      <td>0.13</td>\n",
       "      <td>NaN</td>\n",
       "      <td>0.02</td>\n",
       "      <td>2006.0</td>\n",
       "    </tr>\n",
       "    <tr>\n",
       "      <th>4373</th>\n",
       "      <td>Madden NFL 07</td>\n",
       "      <td>Sports</td>\n",
       "      <td>E</td>\n",
       "      <td>PS3</td>\n",
       "      <td>EA Sports</td>\n",
       "      <td>EA Tiburon</td>\n",
       "      <td>0.53</td>\n",
       "      <td>0.48</td>\n",
       "      <td>NaN</td>\n",
       "      <td>0.01</td>\n",
       "      <td>0.04</td>\n",
       "      <td>2006.0</td>\n",
       "    </tr>\n",
       "    <tr>\n",
       "      <th>4612</th>\n",
       "      <td>Madden NFL 07</td>\n",
       "      <td>Sports</td>\n",
       "      <td>E</td>\n",
       "      <td>Wii</td>\n",
       "      <td>EA Sports</td>\n",
       "      <td>HB Studios</td>\n",
       "      <td>0.50</td>\n",
       "      <td>0.46</td>\n",
       "      <td>0.00</td>\n",
       "      <td>NaN</td>\n",
       "      <td>0.04</td>\n",
       "      <td>2006.0</td>\n",
       "    </tr>\n",
       "    <tr>\n",
       "      <th>8493</th>\n",
       "      <td>Madden NFL 07</td>\n",
       "      <td>Sports</td>\n",
       "      <td>E</td>\n",
       "      <td>DS</td>\n",
       "      <td>EA Sports</td>\n",
       "      <td>Exient Entertainment</td>\n",
       "      <td>0.21</td>\n",
       "      <td>0.20</td>\n",
       "      <td>0.00</td>\n",
       "      <td>NaN</td>\n",
       "      <td>0.02</td>\n",
       "      <td>2006.0</td>\n",
       "    </tr>\n",
       "    <tr>\n",
       "      <th>17116</th>\n",
       "      <td>Madden NFL 07</td>\n",
       "      <td>Sports</td>\n",
       "      <td>E</td>\n",
       "      <td>GBA</td>\n",
       "      <td>EA Sports</td>\n",
       "      <td>Exient Entertainment</td>\n",
       "      <td>0.03</td>\n",
       "      <td>0.02</td>\n",
       "      <td>0.01</td>\n",
       "      <td>NaN</td>\n",
       "      <td>0.00</td>\n",
       "      <td>2006.0</td>\n",
       "    </tr>\n",
       "  </tbody>\n",
       "</table>\n",
       "</div>"
      ],
      "text/plain": [
       "                Name   Genre ESRB_Rating Platform  Publisher  \\\n",
       "309    Madden NFL 07  Sports           E      PS2  EA Sports   \n",
       "1149   Madden NFL 07  Sports           E     X360  EA Sports   \n",
       "2354   Madden NFL 07  Sports           E       XB  EA Sports   \n",
       "2876   Madden NFL 07  Sports           E      PSP  EA Sports   \n",
       "3721   Madden NFL 07  Sports           E       GC  EA Sports   \n",
       "4373   Madden NFL 07  Sports           E      PS3  EA Sports   \n",
       "4612   Madden NFL 07  Sports           E      Wii  EA Sports   \n",
       "8493   Madden NFL 07  Sports           E       DS  EA Sports   \n",
       "17116  Madden NFL 07  Sports           E      GBA  EA Sports   \n",
       "\n",
       "                  Developer  Global_Sales  NA_Sales  PAL_Sales  JP_Sales  \\\n",
       "309              EA Tiburon          4.49      3.63       0.24      0.01   \n",
       "1149             EA Tiburon          1.80      1.66       0.00      0.01   \n",
       "2354             EA Tiburon          1.02      0.97       0.03       NaN   \n",
       "2876             EA Tiburon          0.83      0.77       0.03       NaN   \n",
       "3721             EA Tiburon          0.62      0.48       0.13       NaN   \n",
       "4373             EA Tiburon          0.53      0.48        NaN      0.01   \n",
       "4612             HB Studios          0.50      0.46       0.00       NaN   \n",
       "8493   Exient Entertainment          0.21      0.20       0.00       NaN   \n",
       "17116  Exient Entertainment          0.03      0.02       0.01       NaN   \n",
       "\n",
       "       Other_Sales    Year  \n",
       "309           0.61  2006.0  \n",
       "1149          0.13  2006.0  \n",
       "2354          0.03  2006.0  \n",
       "2876          0.04  2006.0  \n",
       "3721          0.02  2006.0  \n",
       "4373          0.04  2006.0  \n",
       "4612          0.04  2006.0  \n",
       "8493          0.02  2006.0  \n",
       "17116         0.00  2006.0  "
      ]
     },
     "execution_count": 99,
     "metadata": {},
     "output_type": "execute_result"
    }
   ],
   "source": [
    "df[df.Name == 'Madden NFL 07']"
   ]
  },
  {
   "cell_type": "markdown",
   "metadata": {},
   "source": [
    "Above we can verify that the same game can be released to multiple platforms and developed by different developers."
   ]
  },
  {
   "cell_type": "code",
   "execution_count": 100,
   "metadata": {},
   "outputs": [
    {
     "data": {
      "text/plain": [
       "<AxesSubplot:>"
      ]
     },
     "execution_count": 100,
     "metadata": {},
     "output_type": "execute_result"
    },
    {
     "data": {
      "image/png": "[encoded data removed]",
      "text/plain": [
       "<Figure size 864x432 with 2 Axes>"
      ]
     },
     "metadata": {
      "needs_background": "light"
     },
     "output_type": "display_data"
    }
   ],
   "source": [
    "plt.figure(figsize=(12,6))\n",
    "sns.heatmap(df.corr(), vmax=.8, square=True)"
   ]
  },
  {
   "cell_type": "markdown",
   "metadata": {},
   "source": [
    "The heatmap indicates that there's strong correlation between NA_Sales, PAL_Sales, Other_Sales and Global_Sales. However, curiously, JP_Sales don't seem to correlate strongly with Global_Sales."
   ]
  },
  {
   "cell_type": "markdown",
   "metadata": {},
   "source": [
    "The features that are going to be used for our model will be: Genre, ESRB_Rating, Platform, Publisher, Developer, Year.\n",
    "\n",
    "The label will be: Global_Sales"
   ]
  },
  {
   "cell_type": "code",
   "execution_count": 101,
   "metadata": {},
   "outputs": [
    {
     "data": {
      "text/plain": [
       "Index(['Name', 'Genre', 'ESRB_Rating', 'Platform', 'Publisher', 'Developer',\n",
       "       'Global_Sales', 'Year'],\n",
       "      dtype='object')"
      ]
     },
     "execution_count": 101,
     "metadata": {},
     "output_type": "execute_result"
    }
   ],
   "source": [
    "df = df.drop(labels=['NA_Sales', 'PAL_Sales', 'JP_Sales', 'Other_Sales'], axis=1)\n",
    "df.columns"
   ]
  },
  {
   "cell_type": "markdown",
   "metadata": {},
   "source": [
    "### Data Exploration"
   ]
  },
  {
   "cell_type": "code",
   "execution_count": 102,
   "metadata": {},
   "outputs": [],
   "source": [
    "import matplotlib.pyplot as plt\n",
    "import seaborn as sns"
   ]
  },
  {
   "cell_type": "code",
   "execution_count": 103,
   "metadata": {},
   "outputs": [
    {
     "data": {
      "text/plain": [
       "Index(['Name', 'Genre', 'ESRB_Rating', 'Platform', 'Publisher', 'Developer',\n",
       "       'Global_Sales', 'Year'],\n",
       "      dtype='object')"
      ]
     },
     "execution_count": 103,
     "metadata": {},
     "output_type": "execute_result"
    }
   ],
   "source": [
    "df.columns"
   ]
  },
  {
   "cell_type": "code",
   "execution_count": 104,
   "metadata": {},
   "outputs": [
    {
     "data": {
      "image/png": "[encoded data removed]",
      "text/plain": [
       "<Figure size 432x288 with 1 Axes>"
      ]
     },
     "metadata": {
      "needs_background": "light"
     },
     "output_type": "display_data"
    }
   ],
   "source": [
    "sns.histplot(df.Genre)\n",
    "plt.xticks(rotation = 90)\n",
    "plt.show()"
   ]
  },
  {
   "cell_type": "code",
   "execution_count": 105,
   "metadata": {},
   "outputs": [
    {
     "name": "stderr",
     "output_type": "stream",
     "text": [
      "c:\\Users\\vitor\\AppData\\Local\\Programs\\Python\\Python39\\lib\\site-packages\\seaborn\\_decorators.py:36: FutureWarning: Pass the following variables as keyword args: x, y. From version 0.12, the only valid positional argument will be `data`, and passing other arguments without an explicit keyword will result in an error or misinterpretation.\n",
      "  warnings.warn(\n"
     ]
    },
    {
     "data": {
      "image/png": "[encoded data removed]",
      "text/plain": [
       "<Figure size 432x288 with 1 Axes>"
      ]
     },
     "metadata": {
      "needs_background": "light"
     },
     "output_type": "display_data"
    }
   ],
   "source": [
    "df_teste = df.groupby('Platform').Global_Sales.sum()\n",
    "df_teste.reset_index(drop=True)\n",
    "sns.barplot(df_teste.index, df_teste.values)\n",
    "plt.xticks(rotation = 90)\n",
    "plt.show()\n"
   ]
  },
  {
   "cell_type": "code",
   "execution_count": 107,
   "metadata": {},
   "outputs": [
    {
     "name": "stderr",
     "output_type": "stream",
     "text": [
      "c:\\Users\\vitor\\AppData\\Local\\Programs\\Python\\Python39\\lib\\site-packages\\seaborn\\_decorators.py:36: FutureWarning: Pass the following variables as keyword args: x, y. From version 0.12, the only valid positional argument will be `data`, and passing other arguments without an explicit keyword will result in an error or misinterpretation.\n",
      "  warnings.warn(\n"
     ]
    },
    {
     "data": {
      "image/png": "[encoded data removed]",
      "text/plain": [
       "<Figure size 432x288 with 1 Axes>"
      ]
     },
     "metadata": {
      "needs_background": "light"
     },
     "output_type": "display_data"
    }
   ],
   "source": [
    "df_teste = df.groupby('Developer').Global_Sales.sum().sort_values(ascending=False)\n",
    "df_teste.reset_index(drop=True)\n",
    "sns.barplot(df_teste.index[:15], df_teste.values[:15])\n",
    "plt.xticks(rotation = 90)\n",
    "plt.show()\n"
   ]
  },
  {
   "cell_type": "markdown",
   "metadata": {},
   "source": [
    "### Encoding"
   ]
  },
  {
   "cell_type": "markdown",
   "metadata": {},
   "source": [
    "From the 6 features we have, 5 of them are nominal data, 4 of those being categorical (Genre, Platform, Publisher, Developer) and 1 being ordinal (ESRB_Rating).\n",
    "All the nominal data must be encoded before applying it on the training of a model. Ideally, the nominal categorical data must be encoded in a way that doesn't create an order among the categories, so One-Hot-Encoded."
   ]
  },
  {
   "cell_type": "markdown",
   "metadata": {},
   "source": [
    "##### One-Hot-Encoding"
   ]
  },
  {
   "cell_type": "code",
   "execution_count": 109,
   "metadata": {},
   "outputs": [
    {
     "name": "stdout",
     "output_type": "stream",
     "text": [
      "Number of unique values per column:\n",
      "Name : 12633\n",
      "Genre : 20\n",
      "ESRB_Rating : 7\n",
      "Platform : 38\n",
      "Publisher : 716\n",
      "Developer : 2851\n",
      "Global_Sales : 510\n",
      "Year : 46\n"
     ]
    }
   ],
   "source": [
    "print('Number of unique values per column:')\n",
    "for c in df.columns:\n",
    "    print(f'{c} : {df[c].unique().size}')"
   ]
  },
  {
   "cell_type": "markdown",
   "metadata": {},
   "source": [
    "Genre, Platform, Developer, Publisher are all nominal categorical features and therefore must be encoded."
   ]
  },
  {
   "cell_type": "code",
   "execution_count": 110,
   "metadata": {},
   "outputs": [],
   "source": [
    "#Create object for one-hot encoding\n",
    "encoder=ce.OneHotEncoder(cols=['Genre', 'Publisher', 'Developer', 'Platform'],handle_unknown='return_nan',return_df=True,use_cat_names=True)"
   ]
  },
  {
   "cell_type": "code",
   "execution_count": 111,
   "metadata": {},
   "outputs": [
    {
     "data": {
      "text/html": [
       "<div>\n",
       "<style scoped>\n",
       "    .dataframe tbody tr th:only-of-type {\n",
       "        vertical-align: middle;\n",
       "    }\n",
       "\n",
       "    .dataframe tbody tr th {\n",
       "        vertical-align: top;\n",
       "    }\n",
       "\n",
       "    .dataframe thead th {\n",
       "        text-align: right;\n",
       "    }\n",
       "</style>\n",
       "<table border=\"1\" class=\"dataframe\">\n",
       "  <thead>\n",
       "    <tr style=\"text-align: right;\">\n",
       "      <th></th>\n",
       "      <th>Name</th>\n",
       "      <th>Genre</th>\n",
       "      <th>ESRB_Rating</th>\n",
       "      <th>Platform</th>\n",
       "      <th>Publisher</th>\n",
       "      <th>Developer</th>\n",
       "      <th>Global_Sales</th>\n",
       "      <th>Year</th>\n",
       "    </tr>\n",
       "  </thead>\n",
       "  <tbody>\n",
       "    <tr>\n",
       "      <th>19862</th>\n",
       "      <td>Nari Kids Park: Ultraman R/B</td>\n",
       "      <td>Action</td>\n",
       "      <td>NaN</td>\n",
       "      <td>NS</td>\n",
       "      <td>Bandai Namco Games</td>\n",
       "      <td>Bandai Namco Games</td>\n",
       "      <td>0.0</td>\n",
       "      <td>2018.0</td>\n",
       "    </tr>\n",
       "    <tr>\n",
       "      <th>19863</th>\n",
       "      <td>Nekketsu Inou Bukatsu: Trigger Kiss</td>\n",
       "      <td>Adventure</td>\n",
       "      <td>NaN</td>\n",
       "      <td>PSV</td>\n",
       "      <td>Idea Factory</td>\n",
       "      <td>Idea Factory</td>\n",
       "      <td>0.0</td>\n",
       "      <td>2014.0</td>\n",
       "    </tr>\n",
       "    <tr>\n",
       "      <th>19864</th>\n",
       "      <td>Rampage Puzzle Attack</td>\n",
       "      <td>Puzzle</td>\n",
       "      <td>E</td>\n",
       "      <td>GBA</td>\n",
       "      <td>Midway Games</td>\n",
       "      <td>Ninai Games</td>\n",
       "      <td>0.0</td>\n",
       "      <td>2001.0</td>\n",
       "    </tr>\n",
       "    <tr>\n",
       "      <th>19865</th>\n",
       "      <td>Duke Nukem Trilogy: Critical Mass</td>\n",
       "      <td>Shooter</td>\n",
       "      <td>T</td>\n",
       "      <td>PSP</td>\n",
       "      <td>Unknown</td>\n",
       "      <td>FrontLine Studios</td>\n",
       "      <td>0.0</td>\n",
       "      <td>2001.0</td>\n",
       "    </tr>\n",
       "    <tr>\n",
       "      <th>19866</th>\n",
       "      <td>The World of Golden Eggs: Nori Nori Uta Dekich...</td>\n",
       "      <td>Puzzle</td>\n",
       "      <td>NaN</td>\n",
       "      <td>DS</td>\n",
       "      <td>AQ Interactive</td>\n",
       "      <td>AQ Interactive</td>\n",
       "      <td>0.0</td>\n",
       "      <td>2009.0</td>\n",
       "    </tr>\n",
       "    <tr>\n",
       "      <th>...</th>\n",
       "      <td>...</td>\n",
       "      <td>...</td>\n",
       "      <td>...</td>\n",
       "      <td>...</td>\n",
       "      <td>...</td>\n",
       "      <td>...</td>\n",
       "      <td>...</td>\n",
       "      <td>...</td>\n",
       "    </tr>\n",
       "    <tr>\n",
       "      <th>21237</th>\n",
       "      <td>Mind, Body &amp; Soul: Blend It!</td>\n",
       "      <td>Puzzle</td>\n",
       "      <td>NaN</td>\n",
       "      <td>DS</td>\n",
       "      <td>505 Games</td>\n",
       "      <td>Crush Digital</td>\n",
       "      <td>0.0</td>\n",
       "      <td>2010.0</td>\n",
       "    </tr>\n",
       "    <tr>\n",
       "      <th>21238</th>\n",
       "      <td>Ride! Carnival Tycoon</td>\n",
       "      <td>Strategy</td>\n",
       "      <td>E</td>\n",
       "      <td>PC</td>\n",
       "      <td>ValuSoft</td>\n",
       "      <td>ValuSoft</td>\n",
       "      <td>0.0</td>\n",
       "      <td>2007.0</td>\n",
       "    </tr>\n",
       "    <tr>\n",
       "      <th>21239</th>\n",
       "      <td>Shinobido: Tales of the Ninja</td>\n",
       "      <td>Action</td>\n",
       "      <td>NaN</td>\n",
       "      <td>PSP</td>\n",
       "      <td>Sony Computer Entertainment</td>\n",
       "      <td>Acquire</td>\n",
       "      <td>0.0</td>\n",
       "      <td>2007.0</td>\n",
       "    </tr>\n",
       "    <tr>\n",
       "      <th>21240</th>\n",
       "      <td>Tactical Ops: Assault on Terror</td>\n",
       "      <td>Shooter</td>\n",
       "      <td>NaN</td>\n",
       "      <td>PC</td>\n",
       "      <td>Atari</td>\n",
       "      <td>Kamehan Studios</td>\n",
       "      <td>0.0</td>\n",
       "      <td>2002.0</td>\n",
       "    </tr>\n",
       "    <tr>\n",
       "      <th>21241</th>\n",
       "      <td>World in Conflict: Soviet Assault</td>\n",
       "      <td>Strategy</td>\n",
       "      <td>T</td>\n",
       "      <td>PC</td>\n",
       "      <td>Ubisoft</td>\n",
       "      <td>Massive Entertainment / Swordfish Studios</td>\n",
       "      <td>0.0</td>\n",
       "      <td>2009.0</td>\n",
       "    </tr>\n",
       "  </tbody>\n",
       "</table>\n",
       "<p>1257 rows × 8 columns</p>\n",
       "</div>"
      ],
      "text/plain": [
       "                                                    Name      Genre  \\\n",
       "19862                       Nari Kids Park: Ultraman R/B     Action   \n",
       "19863                Nekketsu Inou Bukatsu: Trigger Kiss  Adventure   \n",
       "19864                              Rampage Puzzle Attack     Puzzle   \n",
       "19865                  Duke Nukem Trilogy: Critical Mass    Shooter   \n",
       "19866  The World of Golden Eggs: Nori Nori Uta Dekich...     Puzzle   \n",
       "...                                                  ...        ...   \n",
       "21237                       Mind, Body & Soul: Blend It!     Puzzle   \n",
       "21238                              Ride! Carnival Tycoon   Strategy   \n",
       "21239                      Shinobido: Tales of the Ninja     Action   \n",
       "21240                    Tactical Ops: Assault on Terror    Shooter   \n",
       "21241                  World in Conflict: Soviet Assault   Strategy   \n",
       "\n",
       "      ESRB_Rating Platform                    Publisher  \\\n",
       "19862         NaN       NS           Bandai Namco Games   \n",
       "19863         NaN      PSV                 Idea Factory   \n",
       "19864           E      GBA                 Midway Games   \n",
       "19865           T      PSP                      Unknown   \n",
       "19866         NaN       DS               AQ Interactive   \n",
       "...           ...      ...                          ...   \n",
       "21237         NaN       DS                    505 Games   \n",
       "21238           E       PC                     ValuSoft   \n",
       "21239         NaN      PSP  Sony Computer Entertainment   \n",
       "21240         NaN       PC                        Atari   \n",
       "21241           T       PC                      Ubisoft   \n",
       "\n",
       "                                       Developer  Global_Sales    Year  \n",
       "19862                         Bandai Namco Games           0.0  2018.0  \n",
       "19863                               Idea Factory           0.0  2014.0  \n",
       "19864                                Ninai Games           0.0  2001.0  \n",
       "19865                          FrontLine Studios           0.0  2001.0  \n",
       "19866                             AQ Interactive           0.0  2009.0  \n",
       "...                                          ...           ...     ...  \n",
       "21237                              Crush Digital           0.0  2010.0  \n",
       "21238                                   ValuSoft           0.0  2007.0  \n",
       "21239                                    Acquire           0.0  2007.0  \n",
       "21240                            Kamehan Studios           0.0  2002.0  \n",
       "21241  Massive Entertainment / Swordfish Studios           0.0  2009.0  \n",
       "\n",
       "[1257 rows x 8 columns]"
      ]
     },
     "execution_count": 111,
     "metadata": {},
     "output_type": "execute_result"
    }
   ],
   "source": [
    "df[df.Global_Sales == 0]"
   ]
  },
  {
   "cell_type": "code",
   "execution_count": 112,
   "metadata": {},
   "outputs": [
    {
     "data": {
      "text/html": [
       "<div>\n",
       "<style scoped>\n",
       "    .dataframe tbody tr th:only-of-type {\n",
       "        vertical-align: middle;\n",
       "    }\n",
       "\n",
       "    .dataframe tbody tr th {\n",
       "        vertical-align: top;\n",
       "    }\n",
       "\n",
       "    .dataframe thead th {\n",
       "        text-align: right;\n",
       "    }\n",
       "</style>\n",
       "<table border=\"1\" class=\"dataframe\">\n",
       "  <thead>\n",
       "    <tr style=\"text-align: right;\">\n",
       "      <th></th>\n",
       "      <th>Name</th>\n",
       "      <th>Genre_Action</th>\n",
       "      <th>Genre_Shooter</th>\n",
       "      <th>Genre_Action-Adventure</th>\n",
       "      <th>Genre_Sports</th>\n",
       "      <th>Genre_Misc</th>\n",
       "      <th>Genre_Role-Playing</th>\n",
       "      <th>Genre_Simulation</th>\n",
       "      <th>Genre_Platform</th>\n",
       "      <th>Genre_Racing</th>\n",
       "      <th>...</th>\n",
       "      <th>Developer_GFI Russia</th>\n",
       "      <th>Developer_Total Eclipse</th>\n",
       "      <th>Developer_PomPom Games</th>\n",
       "      <th>Developer_Click Entertainment</th>\n",
       "      <th>Developer_iEntertainment Network</th>\n",
       "      <th>Developer_Streko-Graphics Inc.</th>\n",
       "      <th>Developer_Crush Digital</th>\n",
       "      <th>Developer_Kamehan Studios</th>\n",
       "      <th>Global_Sales</th>\n",
       "      <th>Year</th>\n",
       "    </tr>\n",
       "  </thead>\n",
       "  <tbody>\n",
       "    <tr>\n",
       "      <th>19</th>\n",
       "      <td>Grand Theft Auto V</td>\n",
       "      <td>1.0</td>\n",
       "      <td>0.0</td>\n",
       "      <td>0.0</td>\n",
       "      <td>0.0</td>\n",
       "      <td>0.0</td>\n",
       "      <td>0.0</td>\n",
       "      <td>0.0</td>\n",
       "      <td>0.0</td>\n",
       "      <td>0.0</td>\n",
       "      <td>...</td>\n",
       "      <td>0.0</td>\n",
       "      <td>0.0</td>\n",
       "      <td>0.0</td>\n",
       "      <td>0.0</td>\n",
       "      <td>0.0</td>\n",
       "      <td>0.0</td>\n",
       "      <td>0.0</td>\n",
       "      <td>0.0</td>\n",
       "      <td>20.32</td>\n",
       "      <td>2013.0</td>\n",
       "    </tr>\n",
       "    <tr>\n",
       "      <th>20</th>\n",
       "      <td>Grand Theft Auto V</td>\n",
       "      <td>1.0</td>\n",
       "      <td>0.0</td>\n",
       "      <td>0.0</td>\n",
       "      <td>0.0</td>\n",
       "      <td>0.0</td>\n",
       "      <td>0.0</td>\n",
       "      <td>0.0</td>\n",
       "      <td>0.0</td>\n",
       "      <td>0.0</td>\n",
       "      <td>...</td>\n",
       "      <td>0.0</td>\n",
       "      <td>0.0</td>\n",
       "      <td>0.0</td>\n",
       "      <td>0.0</td>\n",
       "      <td>0.0</td>\n",
       "      <td>0.0</td>\n",
       "      <td>0.0</td>\n",
       "      <td>0.0</td>\n",
       "      <td>19.39</td>\n",
       "      <td>2014.0</td>\n",
       "    </tr>\n",
       "    <tr>\n",
       "      <th>30</th>\n",
       "      <td>Grand Theft Auto: Vice City</td>\n",
       "      <td>1.0</td>\n",
       "      <td>0.0</td>\n",
       "      <td>0.0</td>\n",
       "      <td>0.0</td>\n",
       "      <td>0.0</td>\n",
       "      <td>0.0</td>\n",
       "      <td>0.0</td>\n",
       "      <td>0.0</td>\n",
       "      <td>0.0</td>\n",
       "      <td>...</td>\n",
       "      <td>0.0</td>\n",
       "      <td>0.0</td>\n",
       "      <td>0.0</td>\n",
       "      <td>0.0</td>\n",
       "      <td>0.0</td>\n",
       "      <td>0.0</td>\n",
       "      <td>0.0</td>\n",
       "      <td>0.0</td>\n",
       "      <td>16.15</td>\n",
       "      <td>2002.0</td>\n",
       "    </tr>\n",
       "    <tr>\n",
       "      <th>32</th>\n",
       "      <td>Grand Theft Auto V</td>\n",
       "      <td>1.0</td>\n",
       "      <td>0.0</td>\n",
       "      <td>0.0</td>\n",
       "      <td>0.0</td>\n",
       "      <td>0.0</td>\n",
       "      <td>0.0</td>\n",
       "      <td>0.0</td>\n",
       "      <td>0.0</td>\n",
       "      <td>0.0</td>\n",
       "      <td>...</td>\n",
       "      <td>0.0</td>\n",
       "      <td>0.0</td>\n",
       "      <td>0.0</td>\n",
       "      <td>0.0</td>\n",
       "      <td>0.0</td>\n",
       "      <td>0.0</td>\n",
       "      <td>0.0</td>\n",
       "      <td>0.0</td>\n",
       "      <td>15.86</td>\n",
       "      <td>2013.0</td>\n",
       "    </tr>\n",
       "    <tr>\n",
       "      <th>34</th>\n",
       "      <td>Call of Duty: Black Ops 3</td>\n",
       "      <td>0.0</td>\n",
       "      <td>1.0</td>\n",
       "      <td>0.0</td>\n",
       "      <td>0.0</td>\n",
       "      <td>0.0</td>\n",
       "      <td>0.0</td>\n",
       "      <td>0.0</td>\n",
       "      <td>0.0</td>\n",
       "      <td>0.0</td>\n",
       "      <td>...</td>\n",
       "      <td>0.0</td>\n",
       "      <td>0.0</td>\n",
       "      <td>0.0</td>\n",
       "      <td>0.0</td>\n",
       "      <td>0.0</td>\n",
       "      <td>0.0</td>\n",
       "      <td>0.0</td>\n",
       "      <td>0.0</td>\n",
       "      <td>15.09</td>\n",
       "      <td>2015.0</td>\n",
       "    </tr>\n",
       "    <tr>\n",
       "      <th>...</th>\n",
       "      <td>...</td>\n",
       "      <td>...</td>\n",
       "      <td>...</td>\n",
       "      <td>...</td>\n",
       "      <td>...</td>\n",
       "      <td>...</td>\n",
       "      <td>...</td>\n",
       "      <td>...</td>\n",
       "      <td>...</td>\n",
       "      <td>...</td>\n",
       "      <td>...</td>\n",
       "      <td>...</td>\n",
       "      <td>...</td>\n",
       "      <td>...</td>\n",
       "      <td>...</td>\n",
       "      <td>...</td>\n",
       "      <td>...</td>\n",
       "      <td>...</td>\n",
       "      <td>...</td>\n",
       "      <td>...</td>\n",
       "      <td>...</td>\n",
       "    </tr>\n",
       "    <tr>\n",
       "      <th>21237</th>\n",
       "      <td>Mind, Body &amp; Soul: Blend It!</td>\n",
       "      <td>0.0</td>\n",
       "      <td>0.0</td>\n",
       "      <td>0.0</td>\n",
       "      <td>0.0</td>\n",
       "      <td>0.0</td>\n",
       "      <td>0.0</td>\n",
       "      <td>0.0</td>\n",
       "      <td>0.0</td>\n",
       "      <td>0.0</td>\n",
       "      <td>...</td>\n",
       "      <td>0.0</td>\n",
       "      <td>0.0</td>\n",
       "      <td>0.0</td>\n",
       "      <td>0.0</td>\n",
       "      <td>0.0</td>\n",
       "      <td>0.0</td>\n",
       "      <td>1.0</td>\n",
       "      <td>0.0</td>\n",
       "      <td>0.00</td>\n",
       "      <td>2010.0</td>\n",
       "    </tr>\n",
       "    <tr>\n",
       "      <th>21238</th>\n",
       "      <td>Ride! Carnival Tycoon</td>\n",
       "      <td>0.0</td>\n",
       "      <td>0.0</td>\n",
       "      <td>0.0</td>\n",
       "      <td>0.0</td>\n",
       "      <td>0.0</td>\n",
       "      <td>0.0</td>\n",
       "      <td>0.0</td>\n",
       "      <td>0.0</td>\n",
       "      <td>0.0</td>\n",
       "      <td>...</td>\n",
       "      <td>0.0</td>\n",
       "      <td>0.0</td>\n",
       "      <td>0.0</td>\n",
       "      <td>0.0</td>\n",
       "      <td>0.0</td>\n",
       "      <td>0.0</td>\n",
       "      <td>0.0</td>\n",
       "      <td>0.0</td>\n",
       "      <td>0.00</td>\n",
       "      <td>2007.0</td>\n",
       "    </tr>\n",
       "    <tr>\n",
       "      <th>21239</th>\n",
       "      <td>Shinobido: Tales of the Ninja</td>\n",
       "      <td>1.0</td>\n",
       "      <td>0.0</td>\n",
       "      <td>0.0</td>\n",
       "      <td>0.0</td>\n",
       "      <td>0.0</td>\n",
       "      <td>0.0</td>\n",
       "      <td>0.0</td>\n",
       "      <td>0.0</td>\n",
       "      <td>0.0</td>\n",
       "      <td>...</td>\n",
       "      <td>0.0</td>\n",
       "      <td>0.0</td>\n",
       "      <td>0.0</td>\n",
       "      <td>0.0</td>\n",
       "      <td>0.0</td>\n",
       "      <td>0.0</td>\n",
       "      <td>0.0</td>\n",
       "      <td>0.0</td>\n",
       "      <td>0.00</td>\n",
       "      <td>2007.0</td>\n",
       "    </tr>\n",
       "    <tr>\n",
       "      <th>21240</th>\n",
       "      <td>Tactical Ops: Assault on Terror</td>\n",
       "      <td>0.0</td>\n",
       "      <td>1.0</td>\n",
       "      <td>0.0</td>\n",
       "      <td>0.0</td>\n",
       "      <td>0.0</td>\n",
       "      <td>0.0</td>\n",
       "      <td>0.0</td>\n",
       "      <td>0.0</td>\n",
       "      <td>0.0</td>\n",
       "      <td>...</td>\n",
       "      <td>0.0</td>\n",
       "      <td>0.0</td>\n",
       "      <td>0.0</td>\n",
       "      <td>0.0</td>\n",
       "      <td>0.0</td>\n",
       "      <td>0.0</td>\n",
       "      <td>0.0</td>\n",
       "      <td>1.0</td>\n",
       "      <td>0.00</td>\n",
       "      <td>2002.0</td>\n",
       "    </tr>\n",
       "    <tr>\n",
       "      <th>21241</th>\n",
       "      <td>World in Conflict: Soviet Assault</td>\n",
       "      <td>0.0</td>\n",
       "      <td>0.0</td>\n",
       "      <td>0.0</td>\n",
       "      <td>0.0</td>\n",
       "      <td>0.0</td>\n",
       "      <td>0.0</td>\n",
       "      <td>0.0</td>\n",
       "      <td>0.0</td>\n",
       "      <td>0.0</td>\n",
       "      <td>...</td>\n",
       "      <td>0.0</td>\n",
       "      <td>0.0</td>\n",
       "      <td>0.0</td>\n",
       "      <td>0.0</td>\n",
       "      <td>0.0</td>\n",
       "      <td>0.0</td>\n",
       "      <td>0.0</td>\n",
       "      <td>0.0</td>\n",
       "      <td>0.00</td>\n",
       "      <td>2009.0</td>\n",
       "    </tr>\n",
       "  </tbody>\n",
       "</table>\n",
       "<p>18457 rows × 3629 columns</p>\n",
       "</div>"
      ],
      "text/plain": [
       "                                    Name  Genre_Action  Genre_Shooter  \\\n",
       "19                    Grand Theft Auto V           1.0            0.0   \n",
       "20                    Grand Theft Auto V           1.0            0.0   \n",
       "30           Grand Theft Auto: Vice City           1.0            0.0   \n",
       "32                    Grand Theft Auto V           1.0            0.0   \n",
       "34             Call of Duty: Black Ops 3           0.0            1.0   \n",
       "...                                  ...           ...            ...   \n",
       "21237       Mind, Body & Soul: Blend It!           0.0            0.0   \n",
       "21238              Ride! Carnival Tycoon           0.0            0.0   \n",
       "21239      Shinobido: Tales of the Ninja           1.0            0.0   \n",
       "21240    Tactical Ops: Assault on Terror           0.0            1.0   \n",
       "21241  World in Conflict: Soviet Assault           0.0            0.0   \n",
       "\n",
       "       Genre_Action-Adventure  Genre_Sports  Genre_Misc  Genre_Role-Playing  \\\n",
       "19                        0.0           0.0         0.0                 0.0   \n",
       "20                        0.0           0.0         0.0                 0.0   \n",
       "30                        0.0           0.0         0.0                 0.0   \n",
       "32                        0.0           0.0         0.0                 0.0   \n",
       "34                        0.0           0.0         0.0                 0.0   \n",
       "...                       ...           ...         ...                 ...   \n",
       "21237                     0.0           0.0         0.0                 0.0   \n",
       "21238                     0.0           0.0         0.0                 0.0   \n",
       "21239                     0.0           0.0         0.0                 0.0   \n",
       "21240                     0.0           0.0         0.0                 0.0   \n",
       "21241                     0.0           0.0         0.0                 0.0   \n",
       "\n",
       "       Genre_Simulation  Genre_Platform  Genre_Racing  ...  \\\n",
       "19                  0.0             0.0           0.0  ...   \n",
       "20                  0.0             0.0           0.0  ...   \n",
       "30                  0.0             0.0           0.0  ...   \n",
       "32                  0.0             0.0           0.0  ...   \n",
       "34                  0.0             0.0           0.0  ...   \n",
       "...                 ...             ...           ...  ...   \n",
       "21237               0.0             0.0           0.0  ...   \n",
       "21238               0.0             0.0           0.0  ...   \n",
       "21239               0.0             0.0           0.0  ...   \n",
       "21240               0.0             0.0           0.0  ...   \n",
       "21241               0.0             0.0           0.0  ...   \n",
       "\n",
       "       Developer_GFI Russia  Developer_Total Eclipse  Developer_PomPom Games  \\\n",
       "19                      0.0                      0.0                     0.0   \n",
       "20                      0.0                      0.0                     0.0   \n",
       "30                      0.0                      0.0                     0.0   \n",
       "32                      0.0                      0.0                     0.0   \n",
       "34                      0.0                      0.0                     0.0   \n",
       "...                     ...                      ...                     ...   \n",
       "21237                   0.0                      0.0                     0.0   \n",
       "21238                   0.0                      0.0                     0.0   \n",
       "21239                   0.0                      0.0                     0.0   \n",
       "21240                   0.0                      0.0                     0.0   \n",
       "21241                   0.0                      0.0                     0.0   \n",
       "\n",
       "       Developer_Click Entertainment  Developer_iEntertainment Network  \\\n",
       "19                               0.0                               0.0   \n",
       "20                               0.0                               0.0   \n",
       "30                               0.0                               0.0   \n",
       "32                               0.0                               0.0   \n",
       "34                               0.0                               0.0   \n",
       "...                              ...                               ...   \n",
       "21237                            0.0                               0.0   \n",
       "21238                            0.0                               0.0   \n",
       "21239                            0.0                               0.0   \n",
       "21240                            0.0                               0.0   \n",
       "21241                            0.0                               0.0   \n",
       "\n",
       "       Developer_Streko-Graphics Inc.  Developer_Crush Digital  \\\n",
       "19                                0.0                      0.0   \n",
       "20                                0.0                      0.0   \n",
       "30                                0.0                      0.0   \n",
       "32                                0.0                      0.0   \n",
       "34                                0.0                      0.0   \n",
       "...                               ...                      ...   \n",
       "21237                             0.0                      1.0   \n",
       "21238                             0.0                      0.0   \n",
       "21239                             0.0                      0.0   \n",
       "21240                             0.0                      0.0   \n",
       "21241                             0.0                      0.0   \n",
       "\n",
       "       Developer_Kamehan Studios  Global_Sales    Year  \n",
       "19                           0.0         20.32  2013.0  \n",
       "20                           0.0         19.39  2014.0  \n",
       "30                           0.0         16.15  2002.0  \n",
       "32                           0.0         15.86  2013.0  \n",
       "34                           0.0         15.09  2015.0  \n",
       "...                          ...           ...     ...  \n",
       "21237                        0.0          0.00  2010.0  \n",
       "21238                        0.0          0.00  2007.0  \n",
       "21239                        0.0          0.00  2007.0  \n",
       "21240                        1.0          0.00  2002.0  \n",
       "21241                        0.0          0.00  2009.0  \n",
       "\n",
       "[18457 rows x 3629 columns]"
      ]
     },
     "execution_count": 112,
     "metadata": {},
     "output_type": "execute_result"
    }
   ],
   "source": [
    "df_encoded = encoder.fit_transform(df)\n",
    "df_encoded"
   ]
  },
  {
   "cell_type": "code",
   "execution_count": 113,
   "metadata": {},
   "outputs": [
    {
     "data": {
      "text/plain": [
       "(18457, 3629)"
      ]
     },
     "execution_count": 113,
     "metadata": {},
     "output_type": "execute_result"
    }
   ],
   "source": [
    "df_encoded.shape"
   ]
  },
  {
   "cell_type": "markdown",
   "metadata": {},
   "source": [
    "The ESRB_Rating is a rating that indicates the age requirement in order to play a game. Because there's an order associated with that, it is a nominal ordinal category, and as such can be encoded through mapping each rating to a number. This has the advantage of not increasing the dimensionality of the data."
   ]
  },
  {
   "cell_type": "code",
   "execution_count": 114,
   "metadata": {},
   "outputs": [
    {
     "data": {
      "text/plain": [
       "(18457, 3629)"
      ]
     },
     "execution_count": 114,
     "metadata": {},
     "output_type": "execute_result"
    }
   ],
   "source": [
    "ord_encoder = ce.OrdinalEncoder(cols=['ESRB_Rating'],return_df=True,\n",
    "                           mapping=[{'col':'ESRB_Rating',\n",
    "'mapping':{np.nan:0,'RP':0,'E':0,'E10':1,'T':2,'M':3, 'EC':4}}])\n",
    "df_encoded = ord_encoder.fit_transform(df_encoded)\n",
    "df_encoded.shape"
   ]
  },
  {
   "cell_type": "markdown",
   "metadata": {},
   "source": [
    "#####  Label Encoding"
   ]
  },
  {
   "cell_type": "code",
   "execution_count": 115,
   "metadata": {},
   "outputs": [
    {
     "name": "stdout",
     "output_type": "stream",
     "text": [
      "                           Name  Genre  ESRB_Rating  Platform  Publisher  \\\n",
      "19           Grand Theft Auto V      0            3        21        523   \n",
      "20           Grand Theft Auto V      0            3        22        523   \n",
      "30  Grand Theft Auto: Vice City      0            3        20        523   \n",
      "32           Grand Theft Auto V      0            3        34        523   \n",
      "34    Call of Duty: Black Ops 3     15            3        22         30   \n",
      "\n",
      "    Developer  Global_Sales    Year  \n",
      "19       2049         20.32  2013.0  \n",
      "20       2049         19.39  2014.0  \n",
      "30       2049         16.15  2002.0  \n",
      "32       2049         15.86  2013.0  \n",
      "34       2534         15.09  2015.0  \n"
     ]
    }
   ],
   "source": [
    "# Import label encoder \n",
    "from sklearn import preprocessing\n",
    "# label_encoder object knows how to understand word labels. \n",
    "label_encoder = preprocessing.LabelEncoder()\n",
    "cols=['Genre', 'Publisher', 'Developer', 'Platform', 'ESRB_Rating']\n",
    "df_label_encoded = pd.DataFrame(df)\n",
    "for c in cols:\n",
    "    df_label_encoded[c] = label_encoder.fit_transform(df[c])\n",
    "print(df_label_encoded.head())\n"
   ]
  },
  {
   "cell_type": "markdown",
   "metadata": {},
   "source": [
    "### Models"
   ]
  },
  {
   "cell_type": "markdown",
   "metadata": {},
   "source": [
    "We're going to be using the HistGradientBoostingRegressor and the LGBMRegressor because they're supposed to be robust to a significant amount of nominal features."
   ]
  },
  {
   "cell_type": "code",
   "execution_count": 116,
   "metadata": {},
   "outputs": [],
   "source": [
    "model_names = []\n",
    "best_scores = []\n",
    "encoding = []"
   ]
  },
  {
   "cell_type": "code",
   "execution_count": 117,
   "metadata": {},
   "outputs": [],
   "source": [
    "def run_model(model, X, y):\n",
    "    cv = RepeatedKFold(n_splits=4, n_repeats=3, random_state=13)\n",
    "    \n",
    "    if model == 'hist':\n",
    "        model = HistGradientBoostingRegressor()\n",
    "    if model == 'lgbm':\n",
    "        model = LGBMRegressor()\n",
    "        \n",
    "    n_scores = cross_val_score(model, X, y, scoring='r2', cv=cv, n_jobs=-1, error_score='raise')\n",
    "    print('R2 Score (std) : %.3f (%.3f)' % (np.mean(n_scores), np.std(n_scores)))\n",
    "\n",
    "    return np.mean(n_scores)"
   ]
  },
  {
   "cell_type": "markdown",
   "metadata": {},
   "source": [
    "##### HistGradientBoostingRegressor"
   ]
  },
  {
   "cell_type": "code",
   "execution_count": 118,
   "metadata": {},
   "outputs": [],
   "source": [
    "X_encoded, y_encoded = df_encoded.drop(['Name', 'Global_Sales'], axis=1), df.Global_Sales"
   ]
  },
  {
   "cell_type": "code",
   "execution_count": 119,
   "metadata": {},
   "outputs": [],
   "source": [
    "X_label_encoded, y_label_encoded = df_label_encoded.drop(['Name', 'Global_Sales'], axis=1), df.Global_Sales"
   ]
  },
  {
   "cell_type": "code",
   "execution_count": 120,
   "metadata": {},
   "outputs": [
    {
     "name": "stdout",
     "output_type": "stream",
     "text": [
      "R2 Score (std) : 0.280 (0.038)\n"
     ]
    }
   ],
   "source": [
    "model_names.append('HGB')\n",
    "encoding.append('One-Hot')\n",
    "best_scores.append(run_model('hist', X_encoded, y_encoded))\n"
   ]
  },
  {
   "cell_type": "code",
   "execution_count": 121,
   "metadata": {},
   "outputs": [
    {
     "name": "stdout",
     "output_type": "stream",
     "text": [
      "R2 Score (std) : 0.320 (0.040)\n"
     ]
    }
   ],
   "source": [
    "model_names.append('HGB')\n",
    "encoding.append('Label')\n",
    "best_scores.append(run_model('hist', X_label_encoded, y_label_encoded))"
   ]
  },
  {
   "cell_type": "markdown",
   "metadata": {},
   "source": [
    "##### LGBMRegressor"
   ]
  },
  {
   "cell_type": "code",
   "execution_count": 122,
   "metadata": {},
   "outputs": [],
   "source": [
    "df_encoded_lgbm = df_encoded.drop(['Name', 'Global_Sales'], axis=1)\n",
    "df_encoded_lgbm = df_encoded_lgbm.rename(columns = lambda x:re.sub('[^A-Za-z0-9_]+', '', x))\n",
    "df_encoded_lgbm.columns = [str(c) + str(random.random()) for c in df_encoded_lgbm.columns]\n",
    "\n",
    "X_encoded, y_encoded = df_encoded_lgbm, df.Global_Sales"
   ]
  },
  {
   "cell_type": "code",
   "execution_count": 123,
   "metadata": {},
   "outputs": [],
   "source": [
    "df_label_encoded_lgbm = df_label_encoded.drop(['Name', 'Global_Sales'], axis=1)\n",
    "df_label_encoded_lgbm = df_label_encoded_lgbm.rename(columns = lambda x:re.sub('[^A-Za-z0-9_]+', '', x))\n",
    "df_label_encoded_lgbm.columns = [str(c) + str(random.random()) for c in df_label_encoded_lgbm.columns]\n",
    "\n",
    "X_label_encoded, y_label_encoded = df_label_encoded_lgbm, df.Global_Sales"
   ]
  },
  {
   "cell_type": "code",
   "execution_count": 124,
   "metadata": {},
   "outputs": [
    {
     "name": "stdout",
     "output_type": "stream",
     "text": [
      "R2 Score (std) : 0.288 (0.044)\n"
     ]
    }
   ],
   "source": [
    "model_names.append('LGBM')\n",
    "encoding.append('One-Hot')\n",
    "best_scores.append(run_model('lgbm', X_encoded, y_encoded))"
   ]
  },
  {
   "cell_type": "code",
   "execution_count": 125,
   "metadata": {},
   "outputs": [
    {
     "name": "stdout",
     "output_type": "stream",
     "text": [
      "R2 Score (std) : 0.338 (0.037)\n"
     ]
    }
   ],
   "source": [
    "model_names.append('LGBM')\n",
    "encoding.append('Label')\n",
    "best_scores.append(run_model('lgbm', X_label_encoded, y_label_encoded))"
   ]
  },
  {
   "cell_type": "markdown",
   "metadata": {},
   "source": [
    "### Dimensionality Reduction"
   ]
  },
  {
   "cell_type": "markdown",
   "metadata": {},
   "source": [
    "Because our dataset consists mainly of categorical features that can assume a wide variety of values, when encoded, the dimensionality significantly increases. High dimensionality is very harmful for Machine Learning models because it increases the content to be learned by the model, which can cause the model to need a larger dataset to learn from, which may cause underfitting.\n",
    "\n",
    "After encoding, our dataset went from 6 features to 3629. We're going to try different methods of dimensionality reduction and verify if our dataset is good enough to create a model to predict the Global Sales of a given game."
   ]
  },
  {
   "cell_type": "markdown",
   "metadata": {},
   "source": [
    "##### Feature Selection"
   ]
  },
  {
   "cell_type": "markdown",
   "metadata": {},
   "source": [
    "Publisher and Developer are features that most likely convey similar information: companies involved in the release of a game. As a Feature Selection approach, we're going to choose to drop the Developer column, because it has the higher dimensionality between the two features."
   ]
  },
  {
   "cell_type": "code",
   "execution_count": 126,
   "metadata": {},
   "outputs": [
    {
     "data": {
      "text/plain": [
       "(18457, 778)"
      ]
     },
     "execution_count": 126,
     "metadata": {},
     "output_type": "execute_result"
    }
   ],
   "source": [
    "drop_columns = []\n",
    "for i,v in enumerate(df_encoded.columns.map(lambda s : s.startswith('Developer'))):\n",
    "    if v:\n",
    "        drop_columns.append(df_encoded.columns[i])\n",
    "df_encoded = df_encoded.drop(drop_columns, axis=1)\n",
    "df_encoded.shape"
   ]
  },
  {
   "cell_type": "code",
   "execution_count": 127,
   "metadata": {},
   "outputs": [
    {
     "data": {
      "text/plain": [
       "(18457, 7)"
      ]
     },
     "execution_count": 127,
     "metadata": {},
     "output_type": "execute_result"
    }
   ],
   "source": [
    "drop_columns = []\n",
    "for i,v in enumerate(df_label_encoded.columns.map(lambda s : s.startswith('Developer'))):\n",
    "    if v:\n",
    "        drop_columns.append(df_label_encoded.columns[i])\n",
    "df_label_encoded = df_label_encoded.drop(drop_columns, axis=1)\n",
    "df_label_encoded.shape"
   ]
  },
  {
   "cell_type": "markdown",
   "metadata": {},
   "source": [
    "Let's train the models with the new dataset:"
   ]
  },
  {
   "cell_type": "markdown",
   "metadata": {},
   "source": [
    "##### HistGradientBoostingRegressor"
   ]
  },
  {
   "cell_type": "code",
   "execution_count": 128,
   "metadata": {},
   "outputs": [],
   "source": [
    "X_encoded, y_encoded = df_encoded.drop(['Name', 'Global_Sales'], axis=1), df.Global_Sales"
   ]
  },
  {
   "cell_type": "code",
   "execution_count": 129,
   "metadata": {},
   "outputs": [
    {
     "name": "stdout",
     "output_type": "stream",
     "text": [
      "R2 Score (std) : 0.269 (0.037)\n"
     ]
    }
   ],
   "source": [
    "model_names.append('HGB_Feature_Selection')\n",
    "encoding.append('One-Hot')\n",
    "best_scores.append(run_model('hist', X_encoded, y_encoded))"
   ]
  },
  {
   "cell_type": "code",
   "execution_count": 130,
   "metadata": {},
   "outputs": [],
   "source": [
    "X_label_encoded, y_label_encoded = df_label_encoded.drop(['Name', 'Global_Sales'], axis=1), df.Global_Sales"
   ]
  },
  {
   "cell_type": "code",
   "execution_count": 131,
   "metadata": {},
   "outputs": [
    {
     "name": "stdout",
     "output_type": "stream",
     "text": [
      "R2 Score (std) : 0.273 (0.038)\n"
     ]
    }
   ],
   "source": [
    "model_names.append('HGB_Feature_Selection')\n",
    "encoding.append('Label')\n",
    "best_scores.append(run_model('hist', X_label_encoded, y_label_encoded))"
   ]
  },
  {
   "cell_type": "markdown",
   "metadata": {},
   "source": [
    "##### LGBMRegressor"
   ]
  },
  {
   "cell_type": "code",
   "execution_count": 132,
   "metadata": {},
   "outputs": [],
   "source": [
    "df_encoded_lgbm = df_encoded.drop(['Name', 'Global_Sales'], axis=1)\n",
    "df_encoded_lgbm = df_encoded_lgbm.rename(columns = lambda x:re.sub('[^A-Za-z0-9_]+', '', x))\n",
    "df_encoded_lgbm.columns = [str(c) + str(random.random()) for c in df_encoded_lgbm.columns]\n",
    "\n",
    "X, y = df_encoded_lgbm, df.Global_Sales"
   ]
  },
  {
   "cell_type": "code",
   "execution_count": 133,
   "metadata": {},
   "outputs": [
    {
     "name": "stdout",
     "output_type": "stream",
     "text": [
      "R2 Score (std) : 0.281 (0.039)\n"
     ]
    }
   ],
   "source": [
    "model_names.append('LGBM_Feature_Selection')\n",
    "encoding.append('One-Hot')\n",
    "best_scores.append(run_model('lgbm', X, y))"
   ]
  },
  {
   "cell_type": "markdown",
   "metadata": {},
   "source": [
    "##### PCA"
   ]
  },
  {
   "cell_type": "code",
   "execution_count": 134,
   "metadata": {},
   "outputs": [],
   "source": [
    "from sklearn.preprocessing import StandardScaler\n",
    "df_encoded_scaled = StandardScaler().fit_transform(df_encoded.drop(['Name', 'Global_Sales'], axis=1))"
   ]
  },
  {
   "cell_type": "code",
   "execution_count": 135,
   "metadata": {},
   "outputs": [
    {
     "data": {
      "text/html": [
       "<div>\n",
       "<style scoped>\n",
       "    .dataframe tbody tr th:only-of-type {\n",
       "        vertical-align: middle;\n",
       "    }\n",
       "\n",
       "    .dataframe tbody tr th {\n",
       "        vertical-align: top;\n",
       "    }\n",
       "\n",
       "    .dataframe thead tr th {\n",
       "        text-align: left;\n",
       "    }\n",
       "</style>\n",
       "<table border=\"1\" class=\"dataframe\">\n",
       "  <thead>\n",
       "    <tr>\n",
       "      <th></th>\n",
       "      <th>Genre_Action</th>\n",
       "      <th>Genre_Shooter</th>\n",
       "      <th>Genre_Action-Adventure</th>\n",
       "      <th>Genre_Sports</th>\n",
       "      <th>Genre_Misc</th>\n",
       "      <th>Genre_Role-Playing</th>\n",
       "      <th>Genre_Simulation</th>\n",
       "      <th>Genre_Platform</th>\n",
       "      <th>Genre_Racing</th>\n",
       "      <th>Genre_Music</th>\n",
       "      <th>...</th>\n",
       "      <th>Publisher_GTE Entertainment</th>\n",
       "      <th>Publisher_Game Factory Interactive</th>\n",
       "      <th>Publisher_The Fullbright Company</th>\n",
       "      <th>Publisher_Spellbound</th>\n",
       "      <th>Publisher_Futurlab 1</th>\n",
       "      <th>Publisher_Elephant Entertainment</th>\n",
       "      <th>Publisher_Adventure Soft</th>\n",
       "      <th>Publisher_TopWare</th>\n",
       "      <th>Publisher_iEntertainment Network</th>\n",
       "      <th>Year</th>\n",
       "    </tr>\n",
       "  </thead>\n",
       "  <tbody>\n",
       "    <tr>\n",
       "      <th>0</th>\n",
       "      <td>2.405859</td>\n",
       "      <td>-0.298821</td>\n",
       "      <td>-0.118831</td>\n",
       "      <td>-0.404292</td>\n",
       "      <td>-0.327817</td>\n",
       "      <td>-0.305017</td>\n",
       "      <td>-0.252716</td>\n",
       "      <td>-0.235007</td>\n",
       "      <td>-0.29002</td>\n",
       "      <td>-0.087739</td>\n",
       "      <td>...</td>\n",
       "      <td>-0.007361</td>\n",
       "      <td>-0.007361</td>\n",
       "      <td>-0.007361</td>\n",
       "      <td>-0.007361</td>\n",
       "      <td>-0.007361</td>\n",
       "      <td>-0.007361</td>\n",
       "      <td>-0.007361</td>\n",
       "      <td>-0.01041</td>\n",
       "      <td>-0.007361</td>\n",
       "      <td>0.911803</td>\n",
       "    </tr>\n",
       "    <tr>\n",
       "      <th>1</th>\n",
       "      <td>2.405859</td>\n",
       "      <td>-0.298821</td>\n",
       "      <td>-0.118831</td>\n",
       "      <td>-0.404292</td>\n",
       "      <td>-0.327817</td>\n",
       "      <td>-0.305017</td>\n",
       "      <td>-0.252716</td>\n",
       "      <td>-0.235007</td>\n",
       "      <td>-0.29002</td>\n",
       "      <td>-0.087739</td>\n",
       "      <td>...</td>\n",
       "      <td>-0.007361</td>\n",
       "      <td>-0.007361</td>\n",
       "      <td>-0.007361</td>\n",
       "      <td>-0.007361</td>\n",
       "      <td>-0.007361</td>\n",
       "      <td>-0.007361</td>\n",
       "      <td>-0.007361</td>\n",
       "      <td>-0.01041</td>\n",
       "      <td>-0.007361</td>\n",
       "      <td>1.075374</td>\n",
       "    </tr>\n",
       "    <tr>\n",
       "      <th>2</th>\n",
       "      <td>2.405859</td>\n",
       "      <td>-0.298821</td>\n",
       "      <td>-0.118831</td>\n",
       "      <td>-0.404292</td>\n",
       "      <td>-0.327817</td>\n",
       "      <td>-0.305017</td>\n",
       "      <td>-0.252716</td>\n",
       "      <td>-0.235007</td>\n",
       "      <td>-0.29002</td>\n",
       "      <td>-0.087739</td>\n",
       "      <td>...</td>\n",
       "      <td>-0.007361</td>\n",
       "      <td>-0.007361</td>\n",
       "      <td>-0.007361</td>\n",
       "      <td>-0.007361</td>\n",
       "      <td>-0.007361</td>\n",
       "      <td>-0.007361</td>\n",
       "      <td>-0.007361</td>\n",
       "      <td>-0.01041</td>\n",
       "      <td>-0.007361</td>\n",
       "      <td>-0.887476</td>\n",
       "    </tr>\n",
       "    <tr>\n",
       "      <th>3</th>\n",
       "      <td>2.405859</td>\n",
       "      <td>-0.298821</td>\n",
       "      <td>-0.118831</td>\n",
       "      <td>-0.404292</td>\n",
       "      <td>-0.327817</td>\n",
       "      <td>-0.305017</td>\n",
       "      <td>-0.252716</td>\n",
       "      <td>-0.235007</td>\n",
       "      <td>-0.29002</td>\n",
       "      <td>-0.087739</td>\n",
       "      <td>...</td>\n",
       "      <td>-0.007361</td>\n",
       "      <td>-0.007361</td>\n",
       "      <td>-0.007361</td>\n",
       "      <td>-0.007361</td>\n",
       "      <td>-0.007361</td>\n",
       "      <td>-0.007361</td>\n",
       "      <td>-0.007361</td>\n",
       "      <td>-0.01041</td>\n",
       "      <td>-0.007361</td>\n",
       "      <td>0.911803</td>\n",
       "    </tr>\n",
       "    <tr>\n",
       "      <th>4</th>\n",
       "      <td>-0.415652</td>\n",
       "      <td>3.346482</td>\n",
       "      <td>-0.118831</td>\n",
       "      <td>-0.404292</td>\n",
       "      <td>-0.327817</td>\n",
       "      <td>-0.305017</td>\n",
       "      <td>-0.252716</td>\n",
       "      <td>-0.235007</td>\n",
       "      <td>-0.29002</td>\n",
       "      <td>-0.087739</td>\n",
       "      <td>...</td>\n",
       "      <td>-0.007361</td>\n",
       "      <td>-0.007361</td>\n",
       "      <td>-0.007361</td>\n",
       "      <td>-0.007361</td>\n",
       "      <td>-0.007361</td>\n",
       "      <td>-0.007361</td>\n",
       "      <td>-0.007361</td>\n",
       "      <td>-0.01041</td>\n",
       "      <td>-0.007361</td>\n",
       "      <td>1.238945</td>\n",
       "    </tr>\n",
       "    <tr>\n",
       "      <th>...</th>\n",
       "      <td>...</td>\n",
       "      <td>...</td>\n",
       "      <td>...</td>\n",
       "      <td>...</td>\n",
       "      <td>...</td>\n",
       "      <td>...</td>\n",
       "      <td>...</td>\n",
       "      <td>...</td>\n",
       "      <td>...</td>\n",
       "      <td>...</td>\n",
       "      <td>...</td>\n",
       "      <td>...</td>\n",
       "      <td>...</td>\n",
       "      <td>...</td>\n",
       "      <td>...</td>\n",
       "      <td>...</td>\n",
       "      <td>...</td>\n",
       "      <td>...</td>\n",
       "      <td>...</td>\n",
       "      <td>...</td>\n",
       "      <td>...</td>\n",
       "    </tr>\n",
       "    <tr>\n",
       "      <th>18452</th>\n",
       "      <td>-0.415652</td>\n",
       "      <td>-0.298821</td>\n",
       "      <td>-0.118831</td>\n",
       "      <td>-0.404292</td>\n",
       "      <td>-0.327817</td>\n",
       "      <td>-0.305017</td>\n",
       "      <td>-0.252716</td>\n",
       "      <td>-0.235007</td>\n",
       "      <td>-0.29002</td>\n",
       "      <td>-0.087739</td>\n",
       "      <td>...</td>\n",
       "      <td>-0.007361</td>\n",
       "      <td>-0.007361</td>\n",
       "      <td>-0.007361</td>\n",
       "      <td>-0.007361</td>\n",
       "      <td>-0.007361</td>\n",
       "      <td>-0.007361</td>\n",
       "      <td>-0.007361</td>\n",
       "      <td>-0.01041</td>\n",
       "      <td>-0.007361</td>\n",
       "      <td>0.421091</td>\n",
       "    </tr>\n",
       "    <tr>\n",
       "      <th>18453</th>\n",
       "      <td>-0.415652</td>\n",
       "      <td>-0.298821</td>\n",
       "      <td>-0.118831</td>\n",
       "      <td>-0.404292</td>\n",
       "      <td>-0.327817</td>\n",
       "      <td>-0.305017</td>\n",
       "      <td>-0.252716</td>\n",
       "      <td>-0.235007</td>\n",
       "      <td>-0.29002</td>\n",
       "      <td>-0.087739</td>\n",
       "      <td>...</td>\n",
       "      <td>-0.007361</td>\n",
       "      <td>-0.007361</td>\n",
       "      <td>-0.007361</td>\n",
       "      <td>-0.007361</td>\n",
       "      <td>-0.007361</td>\n",
       "      <td>-0.007361</td>\n",
       "      <td>-0.007361</td>\n",
       "      <td>-0.01041</td>\n",
       "      <td>-0.007361</td>\n",
       "      <td>-0.069621</td>\n",
       "    </tr>\n",
       "    <tr>\n",
       "      <th>18454</th>\n",
       "      <td>2.405859</td>\n",
       "      <td>-0.298821</td>\n",
       "      <td>-0.118831</td>\n",
       "      <td>-0.404292</td>\n",
       "      <td>-0.327817</td>\n",
       "      <td>-0.305017</td>\n",
       "      <td>-0.252716</td>\n",
       "      <td>-0.235007</td>\n",
       "      <td>-0.29002</td>\n",
       "      <td>-0.087739</td>\n",
       "      <td>...</td>\n",
       "      <td>-0.007361</td>\n",
       "      <td>-0.007361</td>\n",
       "      <td>-0.007361</td>\n",
       "      <td>-0.007361</td>\n",
       "      <td>-0.007361</td>\n",
       "      <td>-0.007361</td>\n",
       "      <td>-0.007361</td>\n",
       "      <td>-0.01041</td>\n",
       "      <td>-0.007361</td>\n",
       "      <td>-0.069621</td>\n",
       "    </tr>\n",
       "    <tr>\n",
       "      <th>18455</th>\n",
       "      <td>-0.415652</td>\n",
       "      <td>3.346482</td>\n",
       "      <td>-0.118831</td>\n",
       "      <td>-0.404292</td>\n",
       "      <td>-0.327817</td>\n",
       "      <td>-0.305017</td>\n",
       "      <td>-0.252716</td>\n",
       "      <td>-0.235007</td>\n",
       "      <td>-0.29002</td>\n",
       "      <td>-0.087739</td>\n",
       "      <td>...</td>\n",
       "      <td>-0.007361</td>\n",
       "      <td>-0.007361</td>\n",
       "      <td>-0.007361</td>\n",
       "      <td>-0.007361</td>\n",
       "      <td>-0.007361</td>\n",
       "      <td>-0.007361</td>\n",
       "      <td>-0.007361</td>\n",
       "      <td>-0.01041</td>\n",
       "      <td>-0.007361</td>\n",
       "      <td>-0.887476</td>\n",
       "    </tr>\n",
       "    <tr>\n",
       "      <th>18456</th>\n",
       "      <td>-0.415652</td>\n",
       "      <td>-0.298821</td>\n",
       "      <td>-0.118831</td>\n",
       "      <td>-0.404292</td>\n",
       "      <td>-0.327817</td>\n",
       "      <td>-0.305017</td>\n",
       "      <td>-0.252716</td>\n",
       "      <td>-0.235007</td>\n",
       "      <td>-0.29002</td>\n",
       "      <td>-0.087739</td>\n",
       "      <td>...</td>\n",
       "      <td>-0.007361</td>\n",
       "      <td>-0.007361</td>\n",
       "      <td>-0.007361</td>\n",
       "      <td>-0.007361</td>\n",
       "      <td>-0.007361</td>\n",
       "      <td>-0.007361</td>\n",
       "      <td>-0.007361</td>\n",
       "      <td>-0.01041</td>\n",
       "      <td>-0.007361</td>\n",
       "      <td>0.257520</td>\n",
       "    </tr>\n",
       "  </tbody>\n",
       "</table>\n",
       "<p>18457 rows × 776 columns</p>\n",
       "</div>"
      ],
      "text/plain": [
       "      Genre_Action Genre_Shooter Genre_Action-Adventure Genre_Sports  \\\n",
       "0         2.405859     -0.298821              -0.118831    -0.404292   \n",
       "1         2.405859     -0.298821              -0.118831    -0.404292   \n",
       "2         2.405859     -0.298821              -0.118831    -0.404292   \n",
       "3         2.405859     -0.298821              -0.118831    -0.404292   \n",
       "4        -0.415652      3.346482              -0.118831    -0.404292   \n",
       "...            ...           ...                    ...          ...   \n",
       "18452    -0.415652     -0.298821              -0.118831    -0.404292   \n",
       "18453    -0.415652     -0.298821              -0.118831    -0.404292   \n",
       "18454     2.405859     -0.298821              -0.118831    -0.404292   \n",
       "18455    -0.415652      3.346482              -0.118831    -0.404292   \n",
       "18456    -0.415652     -0.298821              -0.118831    -0.404292   \n",
       "\n",
       "      Genre_Misc Genre_Role-Playing Genre_Simulation Genre_Platform  \\\n",
       "0      -0.327817          -0.305017        -0.252716      -0.235007   \n",
       "1      -0.327817          -0.305017        -0.252716      -0.235007   \n",
       "2      -0.327817          -0.305017        -0.252716      -0.235007   \n",
       "3      -0.327817          -0.305017        -0.252716      -0.235007   \n",
       "4      -0.327817          -0.305017        -0.252716      -0.235007   \n",
       "...          ...                ...              ...            ...   \n",
       "18452  -0.327817          -0.305017        -0.252716      -0.235007   \n",
       "18453  -0.327817          -0.305017        -0.252716      -0.235007   \n",
       "18454  -0.327817          -0.305017        -0.252716      -0.235007   \n",
       "18455  -0.327817          -0.305017        -0.252716      -0.235007   \n",
       "18456  -0.327817          -0.305017        -0.252716      -0.235007   \n",
       "\n",
       "      Genre_Racing Genre_Music  ... Publisher_GTE Entertainment  \\\n",
       "0         -0.29002   -0.087739  ...                   -0.007361   \n",
       "1         -0.29002   -0.087739  ...                   -0.007361   \n",
       "2         -0.29002   -0.087739  ...                   -0.007361   \n",
       "3         -0.29002   -0.087739  ...                   -0.007361   \n",
       "4         -0.29002   -0.087739  ...                   -0.007361   \n",
       "...            ...         ...  ...                         ...   \n",
       "18452     -0.29002   -0.087739  ...                   -0.007361   \n",
       "18453     -0.29002   -0.087739  ...                   -0.007361   \n",
       "18454     -0.29002   -0.087739  ...                   -0.007361   \n",
       "18455     -0.29002   -0.087739  ...                   -0.007361   \n",
       "18456     -0.29002   -0.087739  ...                   -0.007361   \n",
       "\n",
       "      Publisher_Game Factory Interactive Publisher_The Fullbright Company  \\\n",
       "0                              -0.007361                        -0.007361   \n",
       "1                              -0.007361                        -0.007361   \n",
       "2                              -0.007361                        -0.007361   \n",
       "3                              -0.007361                        -0.007361   \n",
       "4                              -0.007361                        -0.007361   \n",
       "...                                  ...                              ...   \n",
       "18452                          -0.007361                        -0.007361   \n",
       "18453                          -0.007361                        -0.007361   \n",
       "18454                          -0.007361                        -0.007361   \n",
       "18455                          -0.007361                        -0.007361   \n",
       "18456                          -0.007361                        -0.007361   \n",
       "\n",
       "      Publisher_Spellbound Publisher_Futurlab 1  \\\n",
       "0                -0.007361            -0.007361   \n",
       "1                -0.007361            -0.007361   \n",
       "2                -0.007361            -0.007361   \n",
       "3                -0.007361            -0.007361   \n",
       "4                -0.007361            -0.007361   \n",
       "...                    ...                  ...   \n",
       "18452            -0.007361            -0.007361   \n",
       "18453            -0.007361            -0.007361   \n",
       "18454            -0.007361            -0.007361   \n",
       "18455            -0.007361            -0.007361   \n",
       "18456            -0.007361            -0.007361   \n",
       "\n",
       "      Publisher_Elephant Entertainment Publisher_Adventure Soft  \\\n",
       "0                            -0.007361                -0.007361   \n",
       "1                            -0.007361                -0.007361   \n",
       "2                            -0.007361                -0.007361   \n",
       "3                            -0.007361                -0.007361   \n",
       "4                            -0.007361                -0.007361   \n",
       "...                                ...                      ...   \n",
       "18452                        -0.007361                -0.007361   \n",
       "18453                        -0.007361                -0.007361   \n",
       "18454                        -0.007361                -0.007361   \n",
       "18455                        -0.007361                -0.007361   \n",
       "18456                        -0.007361                -0.007361   \n",
       "\n",
       "      Publisher_TopWare Publisher_iEntertainment Network      Year  \n",
       "0              -0.01041                        -0.007361  0.911803  \n",
       "1              -0.01041                        -0.007361  1.075374  \n",
       "2              -0.01041                        -0.007361 -0.887476  \n",
       "3              -0.01041                        -0.007361  0.911803  \n",
       "4              -0.01041                        -0.007361  1.238945  \n",
       "...                 ...                              ...       ...  \n",
       "18452          -0.01041                        -0.007361  0.421091  \n",
       "18453          -0.01041                        -0.007361 -0.069621  \n",
       "18454          -0.01041                        -0.007361 -0.069621  \n",
       "18455          -0.01041                        -0.007361 -0.887476  \n",
       "18456          -0.01041                        -0.007361  0.257520  \n",
       "\n",
       "[18457 rows x 776 columns]"
      ]
     },
     "execution_count": 135,
     "metadata": {},
     "output_type": "execute_result"
    }
   ],
   "source": [
    "df_encoded_scaled = pd.DataFrame(df_encoded_scaled, columns=[df_encoded.columns.drop(['Name', 'Global_Sales'])])\n",
    "df_encoded_scaled"
   ]
  },
  {
   "cell_type": "markdown",
   "metadata": {},
   "source": [
    "##### HistGradientBoostingRegressor"
   ]
  },
  {
   "cell_type": "code",
   "execution_count": 136,
   "metadata": {},
   "outputs": [],
   "source": [
    "from sklearn.decomposition import PCA\n",
    "from math import floor"
   ]
  },
  {
   "cell_type": "code",
   "execution_count": 137,
   "metadata": {},
   "outputs": [
    {
     "name": "stderr",
     "output_type": "stream",
     "text": [
      "c:\\Users\\vitor\\AppData\\Local\\Programs\\Python\\Python39\\lib\\site-packages\\sklearn\\utils\\validation.py:1688: FutureWarning: Feature names only support names that are all strings. Got feature names with dtypes: ['tuple']. An error will be raised in 1.2.\n",
      "  warnings.warn(\n"
     ]
    },
    {
     "name": "stdout",
     "output_type": "stream",
     "text": [
      "Number of features:  38\n",
      "R2 Score (std) : 0.240 (0.051)\n"
     ]
    },
    {
     "name": "stderr",
     "output_type": "stream",
     "text": [
      "c:\\Users\\vitor\\AppData\\Local\\Programs\\Python\\Python39\\lib\\site-packages\\sklearn\\utils\\validation.py:1688: FutureWarning: Feature names only support names that are all strings. Got feature names with dtypes: ['tuple']. An error will be raised in 1.2.\n",
      "  warnings.warn(\n"
     ]
    },
    {
     "name": "stdout",
     "output_type": "stream",
     "text": [
      "Number of features:  77\n",
      "R2 Score (std) : 0.277 (0.051)\n"
     ]
    },
    {
     "name": "stderr",
     "output_type": "stream",
     "text": [
      "c:\\Users\\vitor\\AppData\\Local\\Programs\\Python\\Python39\\lib\\site-packages\\sklearn\\utils\\validation.py:1688: FutureWarning: Feature names only support names that are all strings. Got feature names with dtypes: ['tuple']. An error will be raised in 1.2.\n",
      "  warnings.warn(\n"
     ]
    },
    {
     "name": "stdout",
     "output_type": "stream",
     "text": [
      "Number of features:  116\n",
      "R2 Score (std) : 0.279 (0.051)\n"
     ]
    },
    {
     "name": "stderr",
     "output_type": "stream",
     "text": [
      "c:\\Users\\vitor\\AppData\\Local\\Programs\\Python\\Python39\\lib\\site-packages\\sklearn\\utils\\validation.py:1688: FutureWarning: Feature names only support names that are all strings. Got feature names with dtypes: ['tuple']. An error will be raised in 1.2.\n",
      "  warnings.warn(\n"
     ]
    },
    {
     "name": "stdout",
     "output_type": "stream",
     "text": [
      "Number of features:  155\n",
      "R2 Score (std) : 0.265 (0.049)\n"
     ]
    }
   ],
   "source": [
    "feature_percentages = [0.05, 0.10, 0.15, 0.20]\n",
    "means = []\n",
    "for fp in feature_percentages:\n",
    "    pca = PCA(n_components=floor(len(df_encoded_scaled.columns) * fp))\n",
    "    principalComponents = pca.fit_transform(df_encoded_scaled)\n",
    "    df_reduced = pd.DataFrame(principalComponents)\n",
    "    X, y = df_reduced, df.Global_Sales\n",
    "    print('Number of features: ', df_reduced.shape[1])\n",
    "    m = run_model('hist', X, y)\n",
    "    means.append(m)"
   ]
  },
  {
   "cell_type": "code",
   "execution_count": 138,
   "metadata": {},
   "outputs": [
    {
     "data": {
      "text/html": [
       "<div>\n",
       "<style scoped>\n",
       "    .dataframe tbody tr th:only-of-type {\n",
       "        vertical-align: middle;\n",
       "    }\n",
       "\n",
       "    .dataframe tbody tr th {\n",
       "        vertical-align: top;\n",
       "    }\n",
       "\n",
       "    .dataframe thead th {\n",
       "        text-align: right;\n",
       "    }\n",
       "</style>\n",
       "<table border=\"1\" class=\"dataframe\">\n",
       "  <thead>\n",
       "    <tr style=\"text-align: right;\">\n",
       "      <th></th>\n",
       "      <th>feature_percentages</th>\n",
       "      <th>R2</th>\n",
       "    </tr>\n",
       "  </thead>\n",
       "  <tbody>\n",
       "    <tr>\n",
       "      <th>0</th>\n",
       "      <td>0.05</td>\n",
       "      <td>0.240458</td>\n",
       "    </tr>\n",
       "    <tr>\n",
       "      <th>1</th>\n",
       "      <td>0.10</td>\n",
       "      <td>0.276776</td>\n",
       "    </tr>\n",
       "    <tr>\n",
       "      <th>2</th>\n",
       "      <td>0.15</td>\n",
       "      <td>0.279256</td>\n",
       "    </tr>\n",
       "    <tr>\n",
       "      <th>3</th>\n",
       "      <td>0.20</td>\n",
       "      <td>0.265021</td>\n",
       "    </tr>\n",
       "  </tbody>\n",
       "</table>\n",
       "</div>"
      ],
      "text/plain": [
       "   feature_percentages        R2\n",
       "0                 0.05  0.240458\n",
       "1                 0.10  0.276776\n",
       "2                 0.15  0.279256\n",
       "3                 0.20  0.265021"
      ]
     },
     "execution_count": 138,
     "metadata": {},
     "output_type": "execute_result"
    }
   ],
   "source": [
    "table_pca = pd.DataFrame(zip(feature_percentages, means), columns=['feature_percentages', 'R2'])\n",
    "table_pca"
   ]
  },
  {
   "cell_type": "code",
   "execution_count": 139,
   "metadata": {},
   "outputs": [],
   "source": [
    "model_names.append('HGB_PCA_' + str(table_pca.feature_percentages.iloc[table_pca.R2.idxmax()]))\n",
    "encoding.append('One-Hot')\n",
    "best_scores.append(table_pca.R2.max())"
   ]
  },
  {
   "cell_type": "code",
   "execution_count": 140,
   "metadata": {},
   "outputs": [],
   "source": [
    "X, y = df_encoded.drop(['Name', 'Global_Sales'], axis=1), df.Global_Sales"
   ]
  },
  {
   "cell_type": "code",
   "execution_count": 141,
   "metadata": {},
   "outputs": [
    {
     "name": "stdout",
     "output_type": "stream",
     "text": [
      "R2 Score (std) : 0.072 (0.018)\n",
      "R2 Score (std) : 0.067 (0.021)\n",
      "R2 Score (std) : 0.066 (0.017)\n",
      "R2 Score (std) : 0.125 (0.043)\n"
     ]
    },
    {
     "name": "stderr",
     "output_type": "stream",
     "text": [
      "c:\\Users\\vitor\\AppData\\Local\\Programs\\Python\\Python39\\lib\\site-packages\\sklearn\\decomposition\\_nmf.py:1637: ConvergenceWarning: Maximum number of iterations 200 reached. Increase it to improve convergence.\n",
      "  warnings.warn(\n"
     ]
    },
    {
     "name": "stdout",
     "output_type": "stream",
     "text": [
      "R2 Score (std) : 0.153 (0.040)\n",
      "R2 Score (std) : 0.179 (0.027)\n",
      "R2 Score (std) : 0.205 (0.036)\n",
      "R2 Score (std) : 0.202 (0.026)\n",
      "R2 Score (std) : 0.206 (0.038)\n",
      "R2 Score (std) : 0.219 (0.039)\n",
      "R2 Score (std) : 0.213 (0.034)\n"
     ]
    }
   ],
   "source": [
    "from sklearn.decomposition import NMF\n",
    "\n",
    "components = range(2,24,2)\n",
    "means = []\n",
    "for nc in components:\n",
    "    model = NMF(n_components=nc, init='random', random_state=0)\n",
    "    W = model.fit_transform(X)\n",
    "    H = model.components_\n",
    "    m = run_model('hist', W, y)\n",
    "    means.append(m)"
   ]
  },
  {
   "cell_type": "code",
   "execution_count": 142,
   "metadata": {},
   "outputs": [
    {
     "data": {
      "text/html": [
       "<div>\n",
       "<style scoped>\n",
       "    .dataframe tbody tr th:only-of-type {\n",
       "        vertical-align: middle;\n",
       "    }\n",
       "\n",
       "    .dataframe tbody tr th {\n",
       "        vertical-align: top;\n",
       "    }\n",
       "\n",
       "    .dataframe thead th {\n",
       "        text-align: right;\n",
       "    }\n",
       "</style>\n",
       "<table border=\"1\" class=\"dataframe\">\n",
       "  <thead>\n",
       "    <tr style=\"text-align: right;\">\n",
       "      <th></th>\n",
       "      <th>number_components</th>\n",
       "      <th>R2</th>\n",
       "    </tr>\n",
       "  </thead>\n",
       "  <tbody>\n",
       "    <tr>\n",
       "      <th>0</th>\n",
       "      <td>2</td>\n",
       "      <td>0.071968</td>\n",
       "    </tr>\n",
       "    <tr>\n",
       "      <th>1</th>\n",
       "      <td>4</td>\n",
       "      <td>0.067099</td>\n",
       "    </tr>\n",
       "    <tr>\n",
       "      <th>2</th>\n",
       "      <td>6</td>\n",
       "      <td>0.065751</td>\n",
       "    </tr>\n",
       "    <tr>\n",
       "      <th>3</th>\n",
       "      <td>8</td>\n",
       "      <td>0.124898</td>\n",
       "    </tr>\n",
       "    <tr>\n",
       "      <th>4</th>\n",
       "      <td>10</td>\n",
       "      <td>0.153329</td>\n",
       "    </tr>\n",
       "    <tr>\n",
       "      <th>5</th>\n",
       "      <td>12</td>\n",
       "      <td>0.179343</td>\n",
       "    </tr>\n",
       "    <tr>\n",
       "      <th>6</th>\n",
       "      <td>14</td>\n",
       "      <td>0.205351</td>\n",
       "    </tr>\n",
       "    <tr>\n",
       "      <th>7</th>\n",
       "      <td>16</td>\n",
       "      <td>0.202060</td>\n",
       "    </tr>\n",
       "    <tr>\n",
       "      <th>8</th>\n",
       "      <td>18</td>\n",
       "      <td>0.206377</td>\n",
       "    </tr>\n",
       "    <tr>\n",
       "      <th>9</th>\n",
       "      <td>20</td>\n",
       "      <td>0.218581</td>\n",
       "    </tr>\n",
       "    <tr>\n",
       "      <th>10</th>\n",
       "      <td>22</td>\n",
       "      <td>0.213247</td>\n",
       "    </tr>\n",
       "  </tbody>\n",
       "</table>\n",
       "</div>"
      ],
      "text/plain": [
       "    number_components        R2\n",
       "0                   2  0.071968\n",
       "1                   4  0.067099\n",
       "2                   6  0.065751\n",
       "3                   8  0.124898\n",
       "4                  10  0.153329\n",
       "5                  12  0.179343\n",
       "6                  14  0.205351\n",
       "7                  16  0.202060\n",
       "8                  18  0.206377\n",
       "9                  20  0.218581\n",
       "10                 22  0.213247"
      ]
     },
     "execution_count": 142,
     "metadata": {},
     "output_type": "execute_result"
    }
   ],
   "source": [
    "table_nmf = pd.DataFrame(zip(components, means), columns=['number_components', 'R2'])\n",
    "table_nmf"
   ]
  },
  {
   "cell_type": "code",
   "execution_count": 143,
   "metadata": {},
   "outputs": [],
   "source": [
    "model_names.append('HGB_NMF_' + str(table_nmf.number_components.iloc[table_nmf.R2.idxmax()]))\n",
    "encoding.append('One-Hot')\n",
    "best_scores.append(table_nmf.R2.max())"
   ]
  },
  {
   "cell_type": "markdown",
   "metadata": {},
   "source": [
    "### Results"
   ]
  },
  {
   "cell_type": "code",
   "execution_count": 144,
   "metadata": {},
   "outputs": [
    {
     "data": {
      "text/html": [
       "<div>\n",
       "<style scoped>\n",
       "    .dataframe tbody tr th:only-of-type {\n",
       "        vertical-align: middle;\n",
       "    }\n",
       "\n",
       "    .dataframe tbody tr th {\n",
       "        vertical-align: top;\n",
       "    }\n",
       "\n",
       "    .dataframe thead th {\n",
       "        text-align: right;\n",
       "    }\n",
       "</style>\n",
       "<table border=\"1\" class=\"dataframe\">\n",
       "  <thead>\n",
       "    <tr style=\"text-align: right;\">\n",
       "      <th></th>\n",
       "      <th>Model</th>\n",
       "      <th>Encoding</th>\n",
       "      <th>R2 Score</th>\n",
       "    </tr>\n",
       "  </thead>\n",
       "  <tbody>\n",
       "    <tr>\n",
       "      <th>0</th>\n",
       "      <td>HGB</td>\n",
       "      <td>One-Hot</td>\n",
       "      <td>0.279988</td>\n",
       "    </tr>\n",
       "    <tr>\n",
       "      <th>1</th>\n",
       "      <td>HGB</td>\n",
       "      <td>Label</td>\n",
       "      <td>0.319654</td>\n",
       "    </tr>\n",
       "    <tr>\n",
       "      <th>2</th>\n",
       "      <td>LGBM</td>\n",
       "      <td>One-Hot</td>\n",
       "      <td>0.288356</td>\n",
       "    </tr>\n",
       "    <tr>\n",
       "      <th>3</th>\n",
       "      <td>LGBM</td>\n",
       "      <td>Label</td>\n",
       "      <td>0.337939</td>\n",
       "    </tr>\n",
       "    <tr>\n",
       "      <th>4</th>\n",
       "      <td>HGB_Feature_Selection</td>\n",
       "      <td>One-Hot</td>\n",
       "      <td>0.269225</td>\n",
       "    </tr>\n",
       "    <tr>\n",
       "      <th>5</th>\n",
       "      <td>HGB_Feature_Selection</td>\n",
       "      <td>Label</td>\n",
       "      <td>0.272778</td>\n",
       "    </tr>\n",
       "    <tr>\n",
       "      <th>6</th>\n",
       "      <td>LGBM_Feature_Selection</td>\n",
       "      <td>One-Hot</td>\n",
       "      <td>0.280503</td>\n",
       "    </tr>\n",
       "    <tr>\n",
       "      <th>7</th>\n",
       "      <td>HGB_PCA_0.15</td>\n",
       "      <td>One-Hot</td>\n",
       "      <td>0.279256</td>\n",
       "    </tr>\n",
       "    <tr>\n",
       "      <th>8</th>\n",
       "      <td>HGB_NMF_20</td>\n",
       "      <td>One-Hot</td>\n",
       "      <td>0.218581</td>\n",
       "    </tr>\n",
       "  </tbody>\n",
       "</table>\n",
       "</div>"
      ],
      "text/plain": [
       "                    Model Encoding  R2 Score\n",
       "0                     HGB  One-Hot  0.279988\n",
       "1                     HGB    Label  0.319654\n",
       "2                    LGBM  One-Hot  0.288356\n",
       "3                    LGBM    Label  0.337939\n",
       "4   HGB_Feature_Selection  One-Hot  0.269225\n",
       "5   HGB_Feature_Selection    Label  0.272778\n",
       "6  LGBM_Feature_Selection  One-Hot  0.280503\n",
       "7            HGB_PCA_0.15  One-Hot  0.279256\n",
       "8              HGB_NMF_20  One-Hot  0.218581"
      ]
     },
     "execution_count": 144,
     "metadata": {},
     "output_type": "execute_result"
    }
   ],
   "source": [
    "results = pd.DataFrame(zip(model_names, encoding, best_scores), columns=['Model', 'Encoding', 'R2 Score'])\n",
    "results"
   ]
  },
  {
   "cell_type": "markdown",
   "metadata": {},
   "source": [
    "### Conclusion"
   ]
  },
  {
   "cell_type": "markdown",
   "metadata": {},
   "source": [
    "None of the models got a R2 Score of over 0.6, which is the threshold for the model to be considered functional. Therefore our dataset was not able to provide enough data in order to achieve what was intended: a model capable of predicting videogames' sales.\n",
    "This probably occured because our final dataset had not enough entries or features. Almost all of the features were also high cardinality nominal categorical features, which causes the cardinality of the dataset to increase sigificantly with very little control. Steps were taken in order to try to reduce the cardinality of the dataset. First of all, instead of One-Hot-Encoding, we tried Label Encoding. Eventhough label encoding shouldn't usually be used for categorical features because it introduces an order to the feature that is highly likely to be misinterpreted by the model, our categorical features had high enough cardinality to make it worth the try. As can be seen, our Label-Encoded dataset performed better in all of the models, but still not well enough to be considered functional. Another cardinality reduction approach was to drop the highest cardinality column: Developer. The logic here is that the cardinality is way too high and also it might represent something similar to the column Publisher, both are ultimately companies involved in the creating of a game. This approach didn't succeed and in fact it dropped our R2 scores. Next, we applied two different approaches to the One-Hot-Encoded dataset: PCA and NMF. In both of these methods we get to choose the cardinality of our final vector. We implemented them in a way we would experiment with different cardinalities and choose the one that performed the best. For the PCA the best-performing one had 15% of the size of the original vector. For the NMF method the best-performing datased had 16 components. PCA managed to perform slightly better than the orginal HGB method, but worse than the original LGBM method. NMF performed the worst of all the methods tried.\n",
    "\n",
    "Our best scoring model was LGBM trained with label-encoded dataset. Its R2 score was 0.351371, which is not enough to say it is functional."
   ]
  }
 ],
 "metadata": {
  "kernelspec": {
   "display_name": "Python 3 (ipykernel)",
   "language": "python",
   "name": "python3"
  },
  "language_info": {
   "codemirror_mode": {
    "name": "ipython",
    "version": 3
   },
   "file_extension": ".py",
   "mimetype": "text/x-python",
   "name": "python",
   "nbconvert_exporter": "python",
   "pygments_lexer": "ipython3",
   "version": "3.9.7"
  },
  "vscode": {
   "interpreter": {
    "hash": "88e51f94f5892b83dfe3a1c709b13950560457a84b5ac705287fb7c8f3349559"
   }
  }
 },
 "nbformat": 4,
 "nbformat_minor": 2
}
